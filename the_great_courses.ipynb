{
 "cells": [
  {
   "cell_type": "markdown",
   "metadata": {},
   "source": [
    "# The Great Courses: How to Program\n",
    "## Hosted at [Kanopy.com](https://epl.kanopy.com/video/how-program)\n",
    "\n",
    "This course requires login credentials, in this case through the [Evanston Public Library](https://epl.org)"
   ]
  },
  {
   "cell_type": "markdown",
   "metadata": {},
   "source": [
    "### [Episode 1: What Is Programming? Why Python?](https://epl.kanopy.com/video/what-programming-why-python)\n",
    "\n",
    "Most of this is review to me, therefor not going to be commented upon or noted.\n",
    "\n",
    "Recommended reading: The Art of Computer Programming, by Donald E. Knuth\n",
    "\n",
    "[TAOCP site](https://www-cs-faculty.stanford.edu/~knuth/taocp.html)"
   ]
  },
  {
   "cell_type": "code",
   "execution_count": 1,
   "metadata": {},
   "outputs": [
    {
     "name": "stdout",
     "output_type": "stream",
     "text": [
      "Hello, World!\n"
     ]
    }
   ],
   "source": [
    "# Obligatory\n",
    "\n",
    "print('Hello, World!')"
   ]
  },
  {
   "cell_type": "markdown",
   "metadata": {},
   "source": [
    "### [Episode 2: Variables: Operations and Input/Output](https://epl.kanopy.com/video/variables-operations-and-inputoutput)\n",
    "\n",
    "CPU is dumb, just does math\n",
    "Memory:\n",
    "- Registers -- memory in CPU (short term, devs usually don't bother with this)\n",
    "- Cache -- memory in the same integrated circuit as the CPU (short term, devs usually don't bother with this)\n",
    "- Main Memory -- aka 'Primary Memory' aka 'RAM'; most devs are concerned with this part; this is where programs are loaded\n",
    "- Secondary Memory -- aka 'storage', non-volitile memory (e.g., flash drives, ssds, hdds)\n",
    "- Offline Memory -- remote storage\n",
    "\n",
    "#### Main Memory\n",
    "\n",
    "Think of regions of memory as a series of individual boxes, and the boxes can store information in *variables*. \n",
    "\n",
    "Variable names are on the left side of an assignment.\n",
    "The equals sign is an *assignment operator*. Anything on the right of the assignment operator is assigned to the thing on the left of the assignment operator.\n",
    "\n",
    "Variables can be *floats*, *integers*, *strings* in most languages. Strings need to be enclosed in quotes. `''` or `\"\"` or sometimes backtics ``` `` ```.\n",
    "\n",
    "#### The CPU (via Operators)\n",
    "\n",
    "The CPU does its calculations by using *operators* -- `+`, `-`, `/`, `%`, `*`, etc.\n",
    "\n",
    "Strings can also use `+` to concatonate multiple strings. The other operators don't work though with an exception of the `*` operator, which will repeat strings the number of times defined by an integer, ex: \n",
    "```\n",
    "hi = 'Hi '\n",
    "repeat = hi * 3\n",
    "print(repeat)\n",
    "# prints 'Hi Hi Hi'\n",
    "```"
   ]
  },
  {
   "cell_type": "code",
   "execution_count": 2,
   "metadata": {},
   "outputs": [
    {
     "name": "stdout",
     "output_type": "stream",
     "text": [
      "182\n"
     ]
    }
   ],
   "source": [
    "number_of_weeks = 26\n",
    "number_of_days = number_of_weeks * 7\n",
    "\n",
    "print(number_of_days)"
   ]
  },
  {
   "cell_type": "markdown",
   "metadata": {},
   "source": [
    "##### Other Operators\n",
    "\n",
    "- `+=` is \"increases by\"\n",
    "- `-=` is \"decreases by\"\n",
    "- `*=` is \"multiply by\"\n",
    "- `/=` is \"divide by\""
   ]
  },
  {
   "cell_type": "code",
   "execution_count": 3,
   "metadata": {},
   "outputs": [
    {
     "name": "stdout",
     "output_type": "stream",
     "text": [
      "980.0\n"
     ]
    }
   ],
   "source": [
    "balance = 1000.00\n",
    "withdrawl_amount = 20.00\n",
    "balance -= withdrawl_amount # read in English as \"balance decreases by withdrawl_amount\"\n",
    "print(balance)"
   ]
  },
  {
   "cell_type": "markdown",
   "metadata": {},
   "source": [
    "#### Input and Output (I/O)\n",
    "\n",
    "I/O can be hardware like screens, software like files. Speakers, motors, lights, \n",
    "\n",
    "In Python, a print statement that has variables separated by commas will use the commas to add a space in its output."
   ]
  },
  {
   "cell_type": "code",
   "execution_count": 4,
   "metadata": {},
   "outputs": [
    {
     "name": "stdout",
     "output_type": "stream",
     "text": [
      "First word, second\n"
     ]
    }
   ],
   "source": [
    "x = 'First word,' # note no space after comma\n",
    "y = 'second' # note no space around the word\n",
    "print(x, y)"
   ]
  },
  {
   "cell_type": "markdown",
   "metadata": {},
   "source": [
    "##### The input() Function\n",
    "\n",
    "Used on the right side of an assignment operator to get input from a user. **Input data will always be read in as a string.** To change them you have to cast them using `int(input())` or `float(input())`. "
   ]
  },
  {
   "cell_type": "code",
   "execution_count": 5,
   "metadata": {},
   "outputs": [
    {
     "name": "stdout",
     "output_type": "stream",
     "text": [
      "3.14159 <class 'str'>\n",
      "3.14159 <class 'float'>\n",
      "3\n",
      "3\n"
     ]
    }
   ],
   "source": [
    "# Example: user inputs '3.14159'\n",
    "\n",
    "a = '3.14159'\n",
    "b = float(a)\n",
    "c = int(b)\n",
    "d = round(b)\n",
    "print(a, type(a))\n",
    "print(b, type(b))\n",
    "print(c)\n",
    "print(d)"
   ]
  },
  {
   "cell_type": "code",
   "execution_count": 6,
   "metadata": {},
   "outputs": [
    {
     "name": "stdout",
     "output_type": "stream",
     "text": [
      "What is your name? Gidget\n",
      "Hello, Gidget\n"
     ]
    }
   ],
   "source": [
    "name = input('What is your name? ')\n",
    "print('Hello,', name)"
   ]
  },
  {
   "cell_type": "code",
   "execution_count": 7,
   "metadata": {},
   "outputs": [
    {
     "name": "stdout",
     "output_type": "stream",
     "text": [
      "What is the radius? 3\n",
      "The area of your circle is 28.27431.\n"
     ]
    }
   ],
   "source": [
    "# Exercise: get the area of a circle based on user input radii\n",
    "radius = input('What is the radius? ')\n",
    "r = float(radius)\n",
    "pi = 3.14159\n",
    "circle_area = pi * (r**2)\n",
    "print(f'The area of your circle is {circle_area}.')"
   ]
  },
  {
   "cell_type": "markdown",
   "metadata": {},
   "source": [
    "### [Episode 3: Conditionals and Boolean Expressions](https://epl.kanopy.com/video/conditionals-and-boolean-expressions)\n",
    "\n",
    "#### IF\n",
    "\n",
    "In Python, a constant variable is usually capitalized, hence `True` and `False` instead of 'true' and 'false'."
   ]
  },
  {
   "cell_type": "code",
   "execution_count": 8,
   "metadata": {},
   "outputs": [
    {
     "name": "stdout",
     "output_type": "stream",
     "text": [
      "Dangerously High Cholestorol Warning!\n"
     ]
    }
   ],
   "source": [
    "ham = True\n",
    "jam = True\n",
    "# ham = False\n",
    "# if ham == True and jam == True:\n",
    "if ham and jam:\n",
    "    print('Dangerously High Cholestorol Warning!')\n",
    "else:\n",
    "    print('Nah, you\\'re good.')"
   ]
  },
  {
   "cell_type": "code",
   "execution_count": 22,
   "metadata": {},
   "outputs": [
    {
     "name": "stdout",
     "output_type": "stream",
     "text": [
      "12! You lose!\n"
     ]
    }
   ],
   "source": [
    "# Craps conditionals\n",
    "# 2, 3, 12 are losing rolls\n",
    "# 7, 11 winning roles\n",
    "# Any other number is called the point and the game continues\n",
    "\n",
    "# This is a different solution to the issue than the video suggests\n",
    "\n",
    "import random\n",
    "\n",
    "die1 = random.randint(1, 7) # six sided die\n",
    "die2 = random.randint(1, 7) # six sided die\n",
    "combo = die1 + die2\n",
    "\n",
    "if combo == 2 or combo == 3 or combo == 12:\n",
    "    print(f'{combo}! You lose!')\n",
    "elif combo == 7 or combo == 11:\n",
    "    print(f'{combo}! Winner!')\n",
    "else:\n",
    "    print(combo)"
   ]
  },
  {
   "cell_type": "markdown",
   "metadata": {},
   "source": [
    "### [Episode 4 Basic Program Development and Testing](https://epl.kanopy.com/video/basic-program-development-and-testing)\n",
    "\n"
   ]
  },
  {
   "cell_type": "markdown",
   "metadata": {},
   "source": [
    "The forest through the trees. How to see the complete software through the small bits.\n",
    "\n",
    "#### Software Engineering\n",
    "##### Principles of Practical Programming\n",
    "1. Plan ahead\n",
    "2. Keep on testing\n",
    "3. Develop iteratively (\"pyramid-style\")\n",
    "\n",
    "It can be very tempting to just get in and write code. That can end up being very tricky, leading to errors, and get one lost in the details. \n",
    "\n",
    "To build a house you start with blueprints, not wood and nails.\n",
    "\n",
    "###### Savings Program\n",
    "Blueprint: What does the savings program need?\n",
    "***\n",
    "1. Get information from the user (input)\n",
    "2. Division to calculate the number of payments (calculation)\n",
    "3. Present the results to the user (output)\n",
    "\n",
    "Professionals will spend days, weeks, months, planning how software will work before they code it.\n",
    "There are multiple working methodologies to plan code.\n",
    "\n",
    "Writing comments is a good practice, and will help in the case of this savings program."
   ]
  },
  {
   "cell_type": "code",
   "execution_count": 28,
   "metadata": {},
   "outputs": [
    {
     "name": "stdout",
     "output_type": "stream",
     "text": [
      "What amount do you want to save? 100\n",
      "How much will you save each month? 10\n",
      "100.0\n",
      "10.0\n"
     ]
    }
   ],
   "source": [
    "# Get information from the user\n",
    "balance = float(input('What amount do you want to save? '))\n",
    "payment = float(input('How much will you save each month? '))\n",
    "\n",
    "# Testing for the above logical section: does the code receive input?\n",
    "print(balance)\n",
    "print(payment)"
   ]
  },
  {
   "cell_type": "markdown",
   "metadata": {},
   "source": [
    "#### Regular Testing\n",
    "\n",
    "Everyone has bugs. Everyone. The only way to find them is to run tests.\n",
    "\n",
    "Thorough testing should happen during coding. Some say line-by-line is the way to go. Realistically, that's difficult.\n",
    "\n",
    "Test each logical section of code."
   ]
  },
  {
   "cell_type": "code",
   "execution_count": 29,
   "metadata": {},
   "outputs": [],
   "source": [
    "# Calculate the number of payments needed\n",
    "num_remaining_payments = balance / payment"
   ]
  },
  {
   "cell_type": "code",
   "execution_count": 30,
   "metadata": {},
   "outputs": [
    {
     "name": "stdout",
     "output_type": "stream",
     "text": [
      "It will take 10.0 month(s) to save for your item.\n"
     ]
    }
   ],
   "source": [
    "# Present the results to the user\n",
    "# This print statement serves as the test for the above logical section of code\n",
    "print(f'It will take {num_remaining_payments} month(s) to save for your item.')"
   ]
  },
  {
   "cell_type": "markdown",
   "metadata": {},
   "source": [
    "All this works for the numbers we want to feed in, but now we need to test other parameters.\n",
    "\n",
    "- What happens when someone enters 0? You cannot divide by 0.\n",
    "- What happens for negative numbers?\n",
    "- What happens when someone enters a letter?\n",
    "- What about negative payments\n",
    "\n",
    "Conditionals should be added.\n",
    "```\n",
    "if (payment == 0):\n",
    "    payment = float(input('Nope, zero doesn\\'t count. Try again: ')\n",
    "```"
   ]
  },
  {
   "cell_type": "markdown",
   "metadata": {},
   "source": [
    "#### Iterative Development\n",
    "\n",
    "The instructor likes to relate software development to two different architectural features: pyramids and arches.\n",
    "\n",
    "##### Pyramids\n",
    "Software development is like a pyramid when the logical base is solidified through loads and loads of testing, then features are built on a solid base. Even if construction stops without reaching the point, it's still solid architecturally.\n",
    "\n",
    "##### Arches\n",
    "An arch is dependent on each individual brick for its structure to be solid. If one brick is out of place, the structure fails and takes all the other bricks with it.\n",
    "\n",
    "##### My take\n",
    "I get where he's going. I just wonder which model works when you are doing OOP or chunks of code."
   ]
  },
  {
   "cell_type": "code",
   "execution_count": null,
   "metadata": {},
   "outputs": [],
   "source": []
  }
 ],
 "metadata": {
  "kernelspec": {
   "display_name": "Python 3",
   "language": "python",
   "name": "python3"
  },
  "language_info": {
   "codemirror_mode": {
    "name": "ipython",
    "version": 3
   },
   "file_extension": ".py",
   "mimetype": "text/x-python",
   "name": "python",
   "nbconvert_exporter": "python",
   "pygments_lexer": "ipython3",
   "version": "3.7.6"
  }
 },
 "nbformat": 4,
 "nbformat_minor": 4
}
