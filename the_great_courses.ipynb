{
 "cells": [
  {
   "cell_type": "markdown",
   "metadata": {},
   "source": [
    "# The Great Courses: How to Program\n",
    "## Hosted at [Kanopy.com](https://epl.kanopy.com/video/how-program)\n",
    "\n",
    "This course requires login credentials, in this case through the [Evanston Public Library](https://epl.org)"
   ]
  },
  {
   "cell_type": "markdown",
   "metadata": {},
   "source": [
    "---\n",
    "## [Episode 1: What Is Programming? Why Python?](https://epl.kanopy.com/video/what-programming-why-python)\n",
    "\n",
    "Most of this is review to me, therefor not going to be commented upon or noted.\n",
    "\n",
    "Recommended reading: The Art of Computer Programming, by Donald E. Knuth\n",
    "\n",
    "[TAOCP site](https://www-cs-faculty.stanford.edu/~knuth/taocp.html)"
   ]
  },
  {
   "cell_type": "code",
   "execution_count": 1,
   "metadata": {},
   "outputs": [
    {
     "name": "stdout",
     "output_type": "stream",
     "text": [
      "Hello, World!\n"
     ]
    }
   ],
   "source": [
    "# Obligatory\n",
    "\n",
    "print('Hello, World!')"
   ]
  },
  {
   "cell_type": "markdown",
   "metadata": {},
   "source": [
    "---\n",
    "## [Episode 2: Variables: Operations and Input/Output](https://epl.kanopy.com/video/variables-operations-and-inputoutput)"
   ]
  },
  {
   "cell_type": "markdown",
   "metadata": {},
   "source": [
    "CPU is dumb, just does math\n",
    "Memory:\n",
    "- Registers -- memory in CPU (short term, devs usually don't bother with this)\n",
    "- Cache -- memory in the same integrated circuit as the CPU (short term, devs usually don't bother with this)\n",
    "- Main Memory -- aka 'Primary Memory' aka 'RAM'; most devs are concerned with this part; this is where programs are loaded\n",
    "- Secondary Memory -- aka 'storage', non-volitile memory (e.g., flash drives, ssds, hdds)\n",
    "- Offline Memory -- remote storage\n",
    "\n",
    "### Main Memory\n",
    "\n",
    "Think of regions of memory as a series of individual boxes, and the boxes can store information in *variables*. \n",
    "\n",
    "Variable names are on the left side of an assignment.\n",
    "The equals sign is an *assignment operator*. Anything on the right of the assignment operator is assigned to the thing on the left of the assignment operator.\n",
    "\n",
    "Variables can be *floats*, *integers*, *strings* in most languages. Strings need to be enclosed in quotes. `''` or `\"\"` or sometimes backtics ``` `` ```.\n",
    "\n",
    "### The CPU (via Operators)\n",
    "\n",
    "The CPU does its calculations by using *operators* -- `+`, `-`, `/`, `%`, `*`, etc.\n",
    "\n",
    "Strings can also use `+` to concatonate multiple strings. The other operators don't work though with an exception of the `*` operator, which will repeat strings the number of times defined by an integer, ex: \n",
    "```python\n",
    "hi = 'Hi '\n",
    "repeat = hi * 3\n",
    "print(repeat)\n",
    "# prints 'Hi Hi Hi'\n",
    "```"
   ]
  },
  {
   "cell_type": "code",
   "execution_count": 2,
   "metadata": {},
   "outputs": [
    {
     "name": "stdout",
     "output_type": "stream",
     "text": [
      "182\n"
     ]
    }
   ],
   "source": [
    "number_of_weeks = 26\n",
    "number_of_days = number_of_weeks * 7\n",
    "\n",
    "print(number_of_days)"
   ]
  },
  {
   "cell_type": "markdown",
   "metadata": {},
   "source": [
    "#### Other Operators\n",
    "\n",
    "- `+=` is \"increases by\"\n",
    "- `-=` is \"decreases by\"\n",
    "- `*=` is \"multiply by\"\n",
    "- `/=` is \"divide by\""
   ]
  },
  {
   "cell_type": "code",
   "execution_count": 3,
   "metadata": {},
   "outputs": [
    {
     "name": "stdout",
     "output_type": "stream",
     "text": [
      "980.0\n"
     ]
    }
   ],
   "source": [
    "balance = 1000.00\n",
    "withdrawl_amount = 20.00\n",
    "balance -= withdrawl_amount # read in English as \"balance decreases by withdrawl_amount\"\n",
    "print(balance)"
   ]
  },
  {
   "cell_type": "markdown",
   "metadata": {},
   "source": [
    "### Input and Output (I/O)\n",
    "\n",
    "I/O can be hardware like screens, software like files. Speakers, motors, lights, \n",
    "\n",
    "In Python, a print statement that has variables separated by commas will use the commas to add a space in its output."
   ]
  },
  {
   "cell_type": "code",
   "execution_count": 4,
   "metadata": {},
   "outputs": [
    {
     "name": "stdout",
     "output_type": "stream",
     "text": [
      "First word, second\n"
     ]
    }
   ],
   "source": [
    "x = 'First word,' # note no space after comma\n",
    "y = 'second' # note no space around the word\n",
    "print(x, y)"
   ]
  },
  {
   "cell_type": "markdown",
   "metadata": {},
   "source": [
    "#### The input() Function\n",
    "\n",
    "Used on the right side of an assignment operator to get input from a user. **Input data will always be read in as a string.** To change them you have to cast them using `int(input())` or `float(input())`. "
   ]
  },
  {
   "cell_type": "code",
   "execution_count": 5,
   "metadata": {},
   "outputs": [
    {
     "name": "stdout",
     "output_type": "stream",
     "text": [
      "3.14159 <class 'str'>\n",
      "3.14159 <class 'float'>\n",
      "3\n",
      "3\n"
     ]
    }
   ],
   "source": [
    "# Example: user inputs '3.14159'\n",
    "\n",
    "a = '3.14159'\n",
    "b = float(a)\n",
    "c = int(b)\n",
    "d = round(b)\n",
    "print(a, type(a))\n",
    "print(b, type(b))\n",
    "print(c)\n",
    "print(d)"
   ]
  },
  {
   "cell_type": "code",
   "execution_count": 6,
   "metadata": {},
   "outputs": [
    {
     "name": "stdout",
     "output_type": "stream",
     "text": [
      "What is your name? Dingus\n",
      "Hello, Dingus\n"
     ]
    }
   ],
   "source": [
    "name = input('What is your name? ')\n",
    "print('Hello,', name)"
   ]
  },
  {
   "cell_type": "code",
   "execution_count": 7,
   "metadata": {},
   "outputs": [
    {
     "name": "stdout",
     "output_type": "stream",
     "text": [
      "What is the radius? 3\n",
      "The area of your circle is 28.27431.\n"
     ]
    }
   ],
   "source": [
    "# Exercise: get the area of a circle based on user input radii\n",
    "radius = input('What is the radius? ')\n",
    "r = float(radius)\n",
    "pi = 3.14159\n",
    "circle_area = pi * (r**2)\n",
    "print(f'The area of your circle is {circle_area}.')"
   ]
  },
  {
   "cell_type": "markdown",
   "metadata": {},
   "source": [
    "---\n",
    "## [Episode 3: Conditionals and Boolean Expressions](https://epl.kanopy.com/video/conditionals-and-boolean-expressions)"
   ]
  },
  {
   "cell_type": "markdown",
   "metadata": {},
   "source": [
    "### IF\n",
    "\n",
    "In Python, a constant variable is usually capitalized, hence `True` and `False` instead of 'true' and 'false'."
   ]
  },
  {
   "cell_type": "code",
   "execution_count": 8,
   "metadata": {},
   "outputs": [
    {
     "name": "stdout",
     "output_type": "stream",
     "text": [
      "Dangerously High Cholestorol Warning!\n"
     ]
    }
   ],
   "source": [
    "ham = True\n",
    "jam = True\n",
    "# ham = False\n",
    "# if ham == True and jam == True:\n",
    "if ham and jam:\n",
    "    print('Dangerously High Cholestorol Warning!')\n",
    "else:\n",
    "    print('Nah, you\\'re good.')"
   ]
  },
  {
   "cell_type": "code",
   "execution_count": 9,
   "metadata": {},
   "outputs": [
    {
     "name": "stdout",
     "output_type": "stream",
     "text": [
      "7! Winner!\n"
     ]
    }
   ],
   "source": [
    "# Craps conditionals\n",
    "# 2, 3, 12 are losing rolls\n",
    "# 7, 11 winning roles\n",
    "# Any other number is called the point and the game continues\n",
    "\n",
    "# This is a different solution to the issue than the video suggests\n",
    "\n",
    "import random\n",
    "\n",
    "die1 = random.randint(1, 7) # six sided die\n",
    "die2 = random.randint(1, 7) # six sided die\n",
    "combo = die1 + die2\n",
    "\n",
    "if combo == 2 or combo == 3 or combo == 12:\n",
    "    print(f'{combo}! You lose!')\n",
    "elif combo == 7 or combo == 11:\n",
    "    print(f'{combo}! Winner!')\n",
    "else:\n",
    "    print(combo)"
   ]
  },
  {
   "cell_type": "markdown",
   "metadata": {},
   "source": [
    "---\n",
    "## [Episode 4: Basic Program Development and Testing](https://epl.kanopy.com/video/basic-program-development-and-testing)"
   ]
  },
  {
   "cell_type": "markdown",
   "metadata": {},
   "source": [
    "The forest through the trees. How to see the complete software through the small bits.\n",
    "\n",
    "### Software Engineering\n",
    "#### Principles of Practical Programming\n",
    "1. Plan ahead\n",
    "2. Keep on testing\n",
    "3. Develop iteratively (\"pyramid-style\")\n",
    "\n",
    "It can be very tempting to just get in and write code. That can end up being very tricky, leading to errors, and get one lost in the details. \n",
    "\n",
    "To build a house you start with blueprints, not wood and nails.\n",
    "\n",
    "#### Savings Program\n",
    "Blueprint: What does the savings program need?<br>\n",
    "1. Get information from the user (input)\n",
    "2. Division to calculate the number of payments (calculation)\n",
    "3. Present the results to the user (output)\n",
    "\n",
    "Professionals will spend days, weeks, months, planning how software will work before they code it.\n",
    "There are multiple working methodologies to plan code.\n",
    "\n",
    "Writing comments is a good practice, and will help in the case of this savings program."
   ]
  },
  {
   "cell_type": "code",
   "execution_count": 10,
   "metadata": {},
   "outputs": [
    {
     "name": "stdout",
     "output_type": "stream",
     "text": [
      "What amount do you want to save? 100\n",
      "How much will you save each month? 20\n",
      "100.0\n",
      "20.0\n"
     ]
    }
   ],
   "source": [
    "# Get information from the user\n",
    "balance = float(input('What amount do you want to save? '))\n",
    "payment = float(input('How much will you save each month? '))\n",
    "\n",
    "# Testing for the above logical section: does the code receive input?\n",
    "print(balance)\n",
    "print(payment)"
   ]
  },
  {
   "cell_type": "markdown",
   "metadata": {},
   "source": [
    "##### Regular Testing\n",
    "\n",
    "**Everyone has bugs**. Everyone. The only way to find them is to run tests.\n",
    "\n",
    "Thorough testing should happen during coding. Some say line-by-line is the way to go. Realistically, that's difficult.\n",
    "\n",
    "Test each logical section of code."
   ]
  },
  {
   "cell_type": "code",
   "execution_count": 11,
   "metadata": {},
   "outputs": [],
   "source": [
    "# Calculate the number of payments needed\n",
    "num_remaining_payments = balance / payment"
   ]
  },
  {
   "cell_type": "code",
   "execution_count": 12,
   "metadata": {},
   "outputs": [
    {
     "name": "stdout",
     "output_type": "stream",
     "text": [
      "It will take 5.0 month(s) to save for your item.\n"
     ]
    }
   ],
   "source": [
    "# Present the results to the user\n",
    "# This print statement serves as the test for the above logical section of code\n",
    "print(f'It will take {num_remaining_payments} month(s) to save for your item.')"
   ]
  },
  {
   "cell_type": "markdown",
   "metadata": {},
   "source": [
    "All this works for the numbers we want to feed in, but now we need to test other parameters.\n",
    "\n",
    "- What happens when someone enters 0? You cannot divide by 0.\n",
    "- What happens for negative numbers?\n",
    "- What happens when someone enters a letter?\n",
    "- What about negative payments\n",
    "\n",
    "Conditionals should be added.\n",
    "```python\n",
    "if (payment == 0):\n",
    "    payment = float(input('Nope, zero doesn\\'t count. Try again: ')\n",
    "```"
   ]
  },
  {
   "cell_type": "markdown",
   "metadata": {},
   "source": [
    "#### Iterative Development\n",
    "\n",
    "The instructor likes to relate software development to two different architectural features: pyramids and arches.\n",
    "\n",
    "##### Pyramids\n",
    "Software development is like a pyramid when the logical base is solidified through loads and loads of testing, then features are built on a solid base. Even if construction stops without reaching the point, it's still solid architecturally.\n",
    "\n",
    "##### Arches\n",
    "An arch is dependent on each individual brick for its structure to be solid. If one brick is out of place, the structure fails and takes all the other bricks with it."
   ]
  },
  {
   "cell_type": "markdown",
   "metadata": {},
   "source": [
    "---\n",
    "## [Episode 5: Loops and Iterations](https://epl.kanopy.com/video/loops-and-iterations)"
   ]
  },
  {
   "cell_type": "markdown",
   "metadata": {},
   "source": [
    "### While Loops\n",
    "\n",
    "This instructor says \"while\" like he's on Family Guy. Anyway:\n",
    "```python\n",
    "while condition is True:\n",
    "    do the thing, execute the code\n",
    "```\n",
    "\n",
    "The condition is checked at the end of the body of the `while` loop.\n",
    "\n",
    "`while` loops are good for when it is unclear how many times you will need to go through a loop."
   ]
  },
  {
   "cell_type": "code",
   "execution_count": 13,
   "metadata": {},
   "outputs": [
    {
     "name": "stdout",
     "output_type": "stream",
     "text": [
      "Enter a number: -1\n",
      "Enter a positive value: 44\n"
     ]
    }
   ],
   "source": [
    "value = int(input('Enter a number: '))\n",
    "while value <= 0:\n",
    "    value = int(input('Enter a positive value: '))"
   ]
  },
  {
   "cell_type": "markdown",
   "metadata": {},
   "source": [
    "#### Infinite Loops\n",
    "\n",
    "They are more common than we would all like. Stopping the program:\n",
    "\n",
    "- Look for a stop button in the IDE\n",
    "- Close the IDE\n",
    "- CTRL + C for Windows/Linux\n",
    "- CTRL + CMD + C for Mac"
   ]
  },
  {
   "cell_type": "code",
   "execution_count": 14,
   "metadata": {},
   "outputs": [
    {
     "name": "stdout",
     "output_type": "stream",
     "text": [
      "How many people are there? 4\n",
      "Enter the age of person 1: 22\n",
      "Enter the age of person 2: 55\n",
      "Enter the age of person 3: 33\n",
      "Enter the age of person 4: 22\n",
      "The average age was 33.0\n"
     ]
    }
   ],
   "source": [
    "num_people = int(input('How many people are there? '))\n",
    "i = 0 # counter for the number of people in the group; i used to count through integers (iterating)\n",
    "total_age = 0.0 # initialized value of the total age\n",
    "\n",
    "while i < num_people:\n",
    "    age = float(input(f'Enter the age of person {str(i + 1)}: '))\n",
    "    total_age = total_age + age\n",
    "    i = i + 1\n",
    "average_age = total_age / num_people\n",
    "print(f'The average age was {average_age}')"
   ]
  },
  {
   "cell_type": "markdown",
   "metadata": {},
   "source": [
    "### For Loops\n",
    "\n",
    "Useful for well-defined set of items or clear number of times to run through the loop.\n",
    "\n",
    "Using `range()` is quite useful in for loops. Arguments in `range()`:\n",
    "\n",
    "- one value: start at 0, increment by 1, do not exceed value in parentheses\n",
    "- two values: increment by 1 starting at the first value, not exceeding the second value\n",
    "- three values: start at first value, not exceeding the second value, increment amount by the third value"
   ]
  },
  {
   "cell_type": "code",
   "execution_count": 15,
   "metadata": {},
   "outputs": [
    {
     "name": "stdout",
     "output_type": "stream",
     "text": [
      "0\n",
      "3\n"
     ]
    }
   ],
   "source": [
    "for i in range(0, 6, 3):\n",
    "    print(i)"
   ]
  },
  {
   "cell_type": "code",
   "execution_count": 16,
   "metadata": {},
   "outputs": [
    {
     "name": "stdout",
     "output_type": "stream",
     "text": [
      "11\n",
      "10\n",
      "9\n",
      "8\n"
     ]
    }
   ],
   "source": [
    "for i in range(11, 7, -1):\n",
    "    print(i)"
   ]
  },
  {
   "cell_type": "markdown",
   "metadata": {},
   "source": [
    "### Nested Loops"
   ]
  },
  {
   "cell_type": "code",
   "execution_count": 17,
   "metadata": {},
   "outputs": [
    {
     "name": "stdout",
     "output_type": "stream",
     "text": [
      "0 x 0 = 0\n",
      "0 x 1 = 0\n",
      "0 x 2 = 0\n",
      "0 x 3 = 0\n",
      "0 x 4 = 0\n",
      "0 x 5 = 0\n",
      "0 x 6 = 0\n",
      "0 x 7 = 0\n",
      "0 x 8 = 0\n",
      "0 x 9 = 0\n",
      "1 x 0 = 0\n",
      "1 x 1 = 1\n",
      "1 x 2 = 2\n",
      "1 x 3 = 3\n",
      "1 x 4 = 4\n",
      "1 x 5 = 5\n",
      "1 x 6 = 6\n",
      "1 x 7 = 7\n",
      "1 x 8 = 8\n",
      "1 x 9 = 9\n",
      "2 x 0 = 0\n",
      "2 x 1 = 2\n",
      "2 x 2 = 4\n",
      "2 x 3 = 6\n",
      "2 x 4 = 8\n",
      "2 x 5 = 10\n",
      "2 x 6 = 12\n",
      "2 x 7 = 14\n",
      "2 x 8 = 16\n",
      "2 x 9 = 18\n",
      "3 x 0 = 0\n",
      "3 x 1 = 3\n",
      "3 x 2 = 6\n",
      "3 x 3 = 9\n",
      "3 x 4 = 12\n",
      "3 x 5 = 15\n",
      "3 x 6 = 18\n",
      "3 x 7 = 21\n",
      "3 x 8 = 24\n",
      "3 x 9 = 27\n",
      "4 x 0 = 0\n",
      "4 x 1 = 4\n",
      "4 x 2 = 8\n",
      "4 x 3 = 12\n",
      "4 x 4 = 16\n",
      "4 x 5 = 20\n",
      "4 x 6 = 24\n",
      "4 x 7 = 28\n",
      "4 x 8 = 32\n",
      "4 x 9 = 36\n",
      "5 x 0 = 0\n",
      "5 x 1 = 5\n",
      "5 x 2 = 10\n",
      "5 x 3 = 15\n",
      "5 x 4 = 20\n",
      "5 x 5 = 25\n",
      "5 x 6 = 30\n",
      "5 x 7 = 35\n",
      "5 x 8 = 40\n",
      "5 x 9 = 45\n",
      "6 x 0 = 0\n",
      "6 x 1 = 6\n",
      "6 x 2 = 12\n",
      "6 x 3 = 18\n",
      "6 x 4 = 24\n",
      "6 x 5 = 30\n",
      "6 x 6 = 36\n",
      "6 x 7 = 42\n",
      "6 x 8 = 48\n",
      "6 x 9 = 54\n",
      "7 x 0 = 0\n",
      "7 x 1 = 7\n",
      "7 x 2 = 14\n",
      "7 x 3 = 21\n",
      "7 x 4 = 28\n",
      "7 x 5 = 35\n",
      "7 x 6 = 42\n",
      "7 x 7 = 49\n",
      "7 x 8 = 56\n",
      "7 x 9 = 63\n",
      "8 x 0 = 0\n",
      "8 x 1 = 8\n",
      "8 x 2 = 16\n",
      "8 x 3 = 24\n",
      "8 x 4 = 32\n",
      "8 x 5 = 40\n",
      "8 x 6 = 48\n",
      "8 x 7 = 56\n",
      "8 x 8 = 64\n",
      "8 x 9 = 72\n",
      "9 x 0 = 0\n",
      "9 x 1 = 9\n",
      "9 x 2 = 18\n",
      "9 x 3 = 27\n",
      "9 x 4 = 36\n",
      "9 x 5 = 45\n",
      "9 x 6 = 54\n",
      "9 x 7 = 63\n",
      "9 x 8 = 72\n",
      "9 x 9 = 81\n"
     ]
    }
   ],
   "source": [
    "# multiplications table using a nested for loop\n",
    "\n",
    "# for an integer, i, in the range starting at 0 and stopping by 10\n",
    "for i in range(10):\n",
    "    # for an integer, j, in the range starting at 0 and stopping by 10\n",
    "    for j in range(10):\n",
    "        # print the value of i x the value of j = the product of i times j (' x ' and ' = ' are strings)\n",
    "        print(f'{i} x {j} = {i * j}')"
   ]
  },
  {
   "cell_type": "markdown",
   "metadata": {},
   "source": [
    "#### Optional Commands to Use in Loops\n",
    "\n",
    "##### Continue Statement\n",
    "\n",
    "`continue` will skip through an iteration of a loop if a condition has been met.\n",
    "\n",
    "The code below is fine, functionally, but has a lot of indentation and might be hard to read.\n",
    "\n",
    "```python\n",
    "day_to_skip = 4\n",
    "hours_worked = 0\n",
    "target_hours = 10\n",
    "day = 0\n",
    "while hours_worked < target_hours:\n",
    "    day += 1\n",
    "    target_hours += 8\n",
    "    if day_to_skip != 0:\n",
    "        if day < 10:\n",
    "            hours_worked += 6\n",
    "        elif day < 15:\n",
    "            hours_worked += 8\n",
    "        else:\n",
    "            hours_worked += 14\n",
    "```\n",
    "\n",
    "Rather, use the continue statement to skip to the next iteration if a condition is met.\n",
    "\n",
    "```python\n",
    "day_to_skip = 4\n",
    "hours_worked = 0\n",
    "target_hours = 10\n",
    "day = 0\n",
    "while hours_worked < target_hours:\n",
    "    day += 1\n",
    "    target_hours += 8\n",
    "    if day_to_skip == 0:\n",
    "        continue\n",
    "    if day < 10:\n",
    "        hours_worked += 6\n",
    "    elif day < 15:\n",
    "        hours_worked += 8\n",
    "    else:\n",
    "        hours_worked += 14\n",
    "```\n",
    "\n",
    "`continue` skips everything else in the body of the code after it and goes back to the beginning of the loop.\n",
    "\n",
    "##### Break Command\n",
    "\n",
    "`break` will act like `continue`, but where `continue` will skip the code and move to the next iteration, `break` will exit the loop entirely and jump to the code after (or if the break is in a nested loop it will break out of the nested loop and into the parent loop).\n",
    "\n",
    "```python\n",
    "bad_number = 7\n",
    "for i in range(1, 10, 2):\n",
    "    if i == bad_number:\n",
    "        print('Whoops! We didn\\'t want that number!')\n",
    "        break\n",
    "    print(i)\n",
    "else:\n",
    "    print('We got through all numbers')\n",
    "```"
   ]
  },
  {
   "cell_type": "code",
   "execution_count": 18,
   "metadata": {},
   "outputs": [
    {
     "name": "stdout",
     "output_type": "stream",
     "text": [
      "Enter a number: 42\n",
      "You entered 42\n",
      "21.0\n",
      "64.0\n",
      "32.0\n",
      "16.0\n",
      "8.0\n",
      "4.0\n",
      "2.0\n",
      "1.0\n",
      "We reached 1 in 8 steps\n"
     ]
    }
   ],
   "source": [
    "# The Collatz Conjecture (3N + 1)\n",
    "user_num = int(input('Enter a number: '))\n",
    "print(f'You entered {user_num}')\n",
    "\n",
    "counter = 0\n",
    "while user_num != 1:\n",
    "    counter += 1 \n",
    "    if user_num % 2 == 0:\n",
    "        user_num = user_num / 2\n",
    "    else: \n",
    "        user_num = 3 * user_num + 1\n",
    "    print(user_num)\n",
    "        \n",
    "print(f'We reached 1 in {counter} steps')"
   ]
  },
  {
   "cell_type": "markdown",
   "metadata": {},
   "source": [
    "---\n",
    "## [Episode 6: Files and Strings](https://epl.kanopy.com/video/files-and-strings)"
   ]
  },
  {
   "cell_type": "markdown",
   "metadata": {},
   "source": [
    "History lesson: Files used to be actual files of paper punch cards—the ultimate in offline memory. The computer would just be used to execute punch card instructions. Now the computer still does that, but with digital files in *secondary memory* and in *offline memory* as discussed in [Episode 2](https://epl.kanopy.com/video/variables-operations-and-inputoutput). To be used the files need to be brought into *main memory*.\n",
    "\n",
    "Files are closely tied with strings because:\n",
    "\n",
    "- The file format is one long string\n",
    "- File locations are strings\n",
    "\n",
    "Working with data files includes:\n",
    "\n",
    "1. Making a connection with the file (i.e., opening the file)\n",
    "2. Peform operations (read/write)\n",
    "3. Break the connection with the file (i.e., closing the file)\n",
    "\n",
    "Use `open()` to open (i.e., create a connection with) a file:<br>\n",
    "`file = open('Filename', 'r')`<br>\n",
    "The variable name should matter to the program. In `open()` the first argument is the the file name as a string. The second string is how the file will be used.<br>\n",
    "- \"r\" = read, the file will be giving input\n",
    "- \"w\" = write, the file will be written to, given output\n",
    "- \"a\" = append, the file will be written to, but not from scratch; the write is added to the end of a file\n",
    "\n",
    "Trying to read a file that doesn't exist will give an error. To write or append a file that doesn't exist will mean that the file will be generated. Writing to a file that does exist will **write over the old version**."
   ]
  },
  {
   "cell_type": "markdown",
   "metadata": {},
   "source": [
    "```python\n",
    "# Reading/Writing Program\n",
    "# Read input from a file MyDataFile.txt\n",
    "# Write output to a file results.txt\n",
    "\n",
    "my_data = open('MyDataFile.txt', 'r')\n",
    "results = open('results.txt', 'w')\n",
    "```"
   ]
  },
  {
   "cell_type": "markdown",
   "metadata": {},
   "source": [
    "Closing a file (i.e., breaking a connection) will use a function `close()`. Use the internal variable name with `close()`.<br>\n",
    "`my_data.close()`\n",
    "\n",
    "Unless you are using a *context manager* (see the description of `with` below) files must be explicitly closed using `.close()`. Variables used within `open()` and `close()` are locally scoped. "
   ]
  },
  {
   "cell_type": "markdown",
   "metadata": {},
   "source": [
    "When working with a file there are different ways to open, work with, and close a file. These two snippets of code are functionally the same.<br>\n",
    "```python\n",
    "# Option 1\n",
    "myfile = open('Filename', 'w')\n",
    "# Write logic to do something\n",
    "myfile.close()\n",
    "\n",
    "# Option 2\n",
    "with open('Filename', 'w') as myfile:\n",
    "    #Write logic to do something\n",
    "```\n",
    "Using `with` in Option 2 will allow you to use indented code following the assignment of the variable name, in this case `as myfile:`. The file will automatically close after the indented code. Either way is fine, but the second takes care of closing for you. \n",
    "\n",
    "`with` is what is known as a *context manager*."
   ]
  },
  {
   "cell_type": "markdown",
   "metadata": {},
   "source": [
    "### The `write()` Command\n",
    "The `write()` command is appended to the file variable in the program.<br>\n",
    "```python\n",
    "myfile = open('Filename', 'w')\n",
    "myfile.write('Write this to the file.')\n",
    "myfile.close()\n",
    "```\n",
    "For `write()`:\n",
    "- Can only write strings\n",
    "- Can only write one string at a time (no strings separated by commas like in print statements)\n",
    "- New lines are not included unless explicitly used in the string (\\n)"
   ]
  },
  {
   "cell_type": "markdown",
   "metadata": {},
   "source": [
    "```python\n",
    "# Assume the variables 'volume1' and 'volume2' have been computed\n",
    "with open('results.txt', 'w') as outfile:\n",
    "    outfile.write(f'The first volume is {str(volume1)}\\n')\n",
    "    outfile.write(f'The second volume is {str(volume2)}\\n')\n",
    "```"
   ]
  },
  {
   "cell_type": "markdown",
   "metadata": {},
   "source": [
    "### Reading From Files\n",
    "\n",
    "Read individual lines from a text file with the `readline()` command. Repeating the `readline()` command will result in subsequent lines being read from the file into main memory. Passing in a number will result in the number of characters being read in. \n",
    "\n",
    "Read all lines with `readlines()` command.\n",
    "\n",
    "Read the whole file as one string with the `read()` command. Passing in an integer will indicate that `read()` should read into main memory the number of characters."
   ]
  },
  {
   "cell_type": "code",
   "execution_count": 19,
   "metadata": {},
   "outputs": [
    {
     "name": "stdout",
     "output_type": "stream",
     "text": [
      "Thoughts\n",
      "by Myra Vio\n",
      "Thoughts\n",
      "\n",
      "['la Wilds\\n', '\\n', 'What kind of thoughts now, do you carry\\n', '\\tIn your travels day by day\\n', 'Are they bright and lofty visions, \\n', '\\tOr neglected, gone astray?\\n', '\\n', 'Matters not how great in fancy, \\n', \"\\tOr what deeds of skill you've wrought; \\n\", 'Man, though high may be his station, \\n', '\\tIs no better than his thoughts. \\n', '\\n', 'Catch your thoughts and hold them tightly, \\n', '\\tLet each one an honor be; \\n', 'Purge them, scourge them, burnish brightly, \\n', '\\tThen in love set each one free.']\n"
     ]
    }
   ],
   "source": [
    "with open('thoughts_poem.txt', 'r') as myra:\n",
    "    line1 = myra.readline()\n",
    "    line2 = myra.readline(11) # read the first 11 chars of the next line\n",
    "#     myra.seek(0) # This will serve to set the next reading command to the first char\n",
    "    poem = myra.readlines()\n",
    "    print(line1, end = '') # defining the end as an empty string will bypass \\n inherent in print()\n",
    "#     print(f'{line1}{line2}{poem}') \n",
    "    print(line2) # remember, print() will automatically add an \\n (see output)\n",
    "    print(line1)\n",
    "    print(poem)\n",
    "\n",
    "# This will create a new writeable file named 'wilds.txt'\n",
    "with open('wilds.txt', 'w') as myra_wiles:\n",
    "    myra_wiles.write(line1)\n",
    "    myra_wiles.write(line2)"
   ]
  },
  {
   "cell_type": "markdown",
   "metadata": {},
   "source": [
    "A few interesting things to note here. After the file is read into memory:<br>\n",
    "1. the first `readline()` pulls the first line of the text file; what has been contained in that variable is now not available unless that variable is used\n",
    "2. the variable `line2` here has a selection of 11 chars and for some reason a `print()` will not add the `\\n` char; the following code will generate no new line between them\n",
    "```python\n",
    "print(line2)\n",
    "print(poem)\n",
    "```\n",
    "Output:\n",
    "```\n",
    "by Myra Vio\n",
    "['la Wilds\\n', '\\n', 'What kind of thoughts now, do you carry\\n', '\\tIn your travels day by day\\n', 'Are they bright and lofty visions, \\n', '\\tOr neglected, gone astray?\\n', '\\n', 'Matters not how great in fancy, \\n', \"\\tOr what deeds of skill you've wrought; \\n\", 'Man, though high may be his station, \\n', '\\tIs no better than his thoughts. \\n', '\\n', 'Catch your thoughts and hold them tightly, \\n', '\\tLet each one an honor be; \\n', 'Purge them, scourge them, burnish brightly, \\n', '\\tThen in love set each one free.']\n",
    "```\n",
    "Note the first 11 char contained in `line2` are not included in the `poem` variable."
   ]
  },
  {
   "cell_type": "markdown",
   "metadata": {},
   "source": [
    "#### Strings from Directories\n",
    "**Directory Paths** are strings. Directory paths will vary from OS to OS. In Windows, paths have back slashes `\\`. In Mac and Linux, paths use a forward slash `/`. Because Python and other languages utilize the back slash as an escape character, often in Windows versions of programs there are two `\\\\` in paths.\n",
    "\n",
    "An example of how the two would look different in Python:\n",
    "```python\n",
    "# Mac OSX\n",
    "infile = open('data/data.txt', 'r')\n",
    "\n",
    "# Windows \n",
    "infile = open('data\\\\data.txt', 'r')\n",
    "```\n",
    "\n",
    "##### Escape Characters\n",
    "`\\'` = single quote<br>\n",
    "`\\\"` = double quote<br>\n",
    "`\\n` = newline<br>\n",
    "`\\t` = tab<br>\n",
    "`\\\\` = back slash<br>\n",
    "\n",
    "#### Multi-line Strings\n",
    "Using three single- or double-quotes in a row will indicate that anything following until the closing single- or double-quotes will be enclosed in a comment. This is most used for multi-line comments. The most common comments in Python follow `#`. To make a multi line comment `'''` or `\"\"\"` is used to open and close the comment."
   ]
  },
  {
   "cell_type": "code",
   "execution_count": 20,
   "metadata": {},
   "outputs": [
    {
     "name": "stdout",
     "output_type": "stream",
     "text": [
      "thoughts_poem.txt\n",
      "r\n",
      "Thoughts\n",
      "by Myra Viola Wilds\n",
      "\n",
      "What kind of thoughts now, do you carry\n",
      "\tIn your travels day by day\n",
      "Are they bright and lofty visions, \n",
      "\tOr neglected, gone astray?\n",
      "\n",
      "Matters not how great in fancy, \n",
      "\tOr what deeds of skill you've wrought; \n",
      "Man, though high may be his station, \n",
      "\tIs no better than his thoughts. \n",
      "\n",
      "Catch your thoughts and hold them tightly, \n",
      "\tLet each one an honor be; \n",
      "Purge them, scourge them, burnish brightly, \n",
      "\tThen in love set each one free.\n"
     ]
    }
   ],
   "source": [
    "'''\n",
    "The first code and second code are the same, functionally. \n",
    "Using the first code would have an increased chance of throwing an error, \n",
    "as it requires the .close() command.\n",
    "Comment highlighting code and using `CTRL + /` or `CMD + /`\n",
    "to activate or deactivate comments\n",
    "'''\n",
    "\n",
    "# poet = open('thoughts_poem.txt', 'r')\n",
    "# print(poet.name)\n",
    "# print(poet.mode)\n",
    "# poet_contents = poet.read()\n",
    "# print(poet_contents)\n",
    "# poet.close()\n",
    "\n",
    "with open('thoughts_poem.txt', 'r') as poet:\n",
    "    print(poet.name)\n",
    "    print(poet.mode)\n",
    "    poet_contents = poet.read()\n",
    "    print(poet_contents)"
   ]
  },
  {
   "cell_type": "markdown",
   "metadata": {},
   "source": [
    "#### Iterating Over Lines in a File\n",
    "If a large file has to be opened there are some risks:<br>\n",
    "- `read()` can eat up too much main memory\n",
    "- you wouldn't want to type thousands of `readline()` statements\n",
    "\n",
    "Use a `for` loop to iterate over lines."
   ]
  },
  {
   "cell_type": "code",
   "execution_count": 21,
   "metadata": {},
   "outputs": [
    {
     "name": "stdout",
     "output_type": "stream",
     "text": [
      "Thoughts\n",
      "by Myra Viola Wilds\n",
      "\n",
      "What kind of thoughts now, do you carry\n",
      "\tIn your travels day by day\n",
      "Are they bright and lofty visions, \n",
      "\tOr neglected, gone astray?\n",
      "\n",
      "Matters not how great in fancy, \n",
      "\tOr what deeds of skill you've wrought; \n",
      "Man, though high may be his station, \n",
      "\tIs no better than his thoughts. \n",
      "\n",
      "Catch your thoughts and hold them tightly, \n",
      "\tLet each one an honor be; \n",
      "Purge them, scourge them, burnish brightly, \n",
      "\tThen in love set each one free."
     ]
    }
   ],
   "source": [
    "# This will iterate over each line and thus main memory will only have one line at a time \n",
    "with open('thoughts_poem.txt', 'r') as file:\n",
    "    \n",
    "    for line in file:\n",
    "        print(line, end = '')"
   ]
  },
  {
   "cell_type": "markdown",
   "metadata": {},
   "source": [
    "### Working with Multiple Files\n",
    "The following descriptions and examples were garnered from Corey Schafer's, [Python Tutorial: File Objects - Reading and Writing to Files](https://youtu.be/Uh2ebFW8OYM)"
   ]
  },
  {
   "cell_type": "code",
   "execution_count": 22,
   "metadata": {},
   "outputs": [],
   "source": [
    "# open test.txt as variable 'rf' (named for 'readfile' in this case) as readable\n",
    "# open (or create if it doesn't exist) a file 'test_copy.txt' as variable 'wf' (named for 'writefile' in this case) as writable\n",
    "\n",
    "with open('test_texts/test.txt', 'r') as rf:\n",
    "    with open('test_texts/test_copy.txt', 'w') as wf:\n",
    "        for line in rf: # for each line in the original file\n",
    "            wf.write(line) # write a line in our new file "
   ]
  },
  {
   "cell_type": "markdown",
   "metadata": {},
   "source": [
    "#### Binary Files\n",
    "If we wanted to work with an image file or a word processor file (i.e., not a .txt file) we would amend the `open()` statements to be `'rb'` and/or `'wb'` (or `'ab'` for append functionality). The 'b' notes that we are working with a *binary* file. "
   ]
  },
  {
   "cell_type": "code",
   "execution_count": 23,
   "metadata": {},
   "outputs": [],
   "source": [
    "with open('test_texts/test_img.jpg', 'rb') as rf:\n",
    "    with open('test_texts/test_img_copy.jpg', 'wb') as wf:\n",
    "        for line in rf:\n",
    "            wf.write(line)"
   ]
  },
  {
   "cell_type": "markdown",
   "metadata": {},
   "source": [
    "If we're working with a huge file and memory is an issue, or you want finer control over how the file is copied, we'd work with chunks of a binary file using a loop. Example below uses a dev-defined chunk of data."
   ]
  },
  {
   "cell_type": "code",
   "execution_count": 24,
   "metadata": {},
   "outputs": [],
   "source": [
    "with open('test_texts/test_img.jpg', 'rb') as rf:\n",
    "    with open('test_texts/test_img_copy_2.jpg', 'wb') as wf:\n",
    "        chunk_size = 4096\n",
    "        rf_chunk = rf.read(chunk_size)\n",
    "        '''\n",
    "        While the chunk defined above is greater than zero\n",
    "        we will write the chunk to the copy file.\n",
    "        To avoid an infinite loop we read in the next chunk\n",
    "        '''\n",
    "        while len(rf_chunk) > 0:\n",
    "            wf.write(rf_chunk)\n",
    "            rf_chunk = rf.read(chunk_size)"
   ]
  },
  {
   "cell_type": "markdown",
   "metadata": {},
   "source": [
    "---\n",
    "## [Episode 7: Operations with Lists](https://epl.kanopy.com/video/operations-lists)\n",
    "\n",
    "Python is apparently very good with lists when compared to other languages.\n",
    "\n",
    "*List* and *array* are generally synonymous...generally. \n",
    "\n",
    "### Lists\n",
    "```python\n",
    "variable_name = [1, 2, 3, 4, 5, 4, 3, 2, 1]\n",
    "```\n",
    "Each item in a list has an *index* number, and for every list (in most programming languages) **the first index number is 0**. In memory, a list is stored by the location of the first element, which is offset by zero. The second element is stored in memory in a location that is offset by 1, and so on.\n",
    "\n",
    "Elements in a list are accessed by using `[]` with the index number after the variable name.<br>\n",
    "```python\n",
    "print(variable_name[4])\n",
    "5\n",
    "```"
   ]
  },
  {
   "cell_type": "code",
   "execution_count": 25,
   "metadata": {},
   "outputs": [
    {
     "name": "stdout",
     "output_type": "stream",
     "text": [
      "January has 31 days\n"
     ]
    }
   ],
   "source": [
    "# How many days are in January?\n",
    "days_in_month = [31, 28, 31, 30, 31, 30, 31, 31, 30, 31, 30, 31]\n",
    "print(f'January has {days_in_month[0]} days')"
   ]
  },
  {
   "cell_type": "code",
   "execution_count": 26,
   "metadata": {},
   "outputs": [
    {
     "name": "stdout",
     "output_type": "stream",
     "text": [
      "29\n"
     ]
    }
   ],
   "source": [
    "# How do we determine if February has 28 or 29 days?\n",
    "year = 2020\n",
    "\n",
    "if year % 4 == 0:\n",
    "    days_in_month[1] = 29\n",
    "# else:\n",
    "#     days_in_month[1] = 28\n",
    "    \n",
    "print(days_in_month[1])"
   ]
  },
  {
   "cell_type": "code",
   "execution_count": 27,
   "metadata": {},
   "outputs": [
    {
     "name": "stdout",
     "output_type": "stream",
     "text": [
      "83\n",
      "80\n",
      "73\n",
      "75\n",
      "79\n",
      "83\n",
      "86\n",
      "\n",
      "\n",
      "83\n",
      "80\n",
      "73\n",
      "75\n",
      "79\n",
      "83\n",
      "86\n",
      "\n",
      "\n",
      "83\n",
      "80\n",
      "73\n",
      "75\n",
      "79\n",
      "83\n",
      "86\n"
     ]
    }
   ],
   "source": [
    "# print each element in the list\n",
    "daily_high_temps = [83, 80, 73, 75, 79, 83, 86]\n",
    "\n",
    "for i in range(7):\n",
    "    print(daily_high_temps[i])\n",
    "print('\\n')\n",
    "\n",
    "for i in range(len(daily_high_temps)):\n",
    "    print(daily_high_temps[i])\n",
    "print('\\n')\n",
    "\n",
    "# This is the most elegant, but most abstract way when compared to the above methods of looping through the list\n",
    "for i in daily_high_temps:\n",
    "    print(i)"
   ]
  },
  {
   "cell_type": "code",
   "execution_count": 28,
   "metadata": {},
   "outputs": [
    {
     "name": "stdout",
     "output_type": "stream",
     "text": [
      "This is a leap year\n",
      "31\n",
      "60\n",
      "91\n",
      "121\n",
      "152\n",
      "182\n",
      "213\n",
      "244\n",
      "274\n",
      "305\n",
      "335\n",
      "366\n",
      "There are 366 this year.\n"
     ]
    }
   ],
   "source": [
    "# Calculate days of the year given the above array days_in_month\n",
    "\n",
    "year = 3184\n",
    "num_days = 0\n",
    "\n",
    "if year % 4 == 0:\n",
    "    print(f'This is a leap year')\n",
    "    days_in_month[1] = 29\n",
    "else:\n",
    "    print(f'This is not a leap year')\n",
    "    days_in_month[1] = 28\n",
    "    \n",
    "for i in days_in_month:\n",
    "    num_days += i\n",
    "    print(num_days)\n",
    "\n",
    "# Python's better, cooler way is to use `sum()`\n",
    "num_days = sum(days_in_month)\n",
    "print(f'There are {num_days} this year.')"
   ]
  },
  {
   "cell_type": "markdown",
   "metadata": {},
   "source": [
    "#### Appending to Lists\n",
    "\n",
    "You can append lists by adding a list to a list, or you can use the `append()` method to add one item to the end of the list."
   ]
  },
  {
   "cell_type": "code",
   "execution_count": 29,
   "metadata": {},
   "outputs": [
    {
     "name": "stdout",
     "output_type": "stream",
     "text": [
      "[1.1, 2.2, 3.3, 56.3, 2.3, 4.5, 5.6]\n"
     ]
    }
   ],
   "source": [
    "list1 = [1.1, 2.2, 3.3, 56.3]\n",
    "list2 = [2.3, 4.5, 5.6]\n",
    "list3 = list1 + list2\n",
    "print(list3)"
   ]
  },
  {
   "cell_type": "code",
   "execution_count": 30,
   "metadata": {},
   "outputs": [
    {
     "name": "stdout",
     "output_type": "stream",
     "text": [
      "[1.1, 2.2, 3.3, 56.3, 2.3, 4.5, 5.6, 6.7]\n"
     ]
    }
   ],
   "source": [
    "list3.append(6.7)\n",
    "print(list3)"
   ]
  },
  {
   "cell_type": "code",
   "execution_count": 31,
   "metadata": {},
   "outputs": [
    {
     "name": "stdout",
     "output_type": "stream",
     "text": [
      "Enter the age of the person. Enter -1 when done34\n",
      "Enter the age of the person. Enter -1 when done45\n",
      "Enter the age of the person. Enter -1 when done56\n",
      "Enter the age of the person. Enter -1 when done56\n",
      "Enter the age of the person. Enter -1 when done-1\n",
      "[34, 45, 56, 56]\n"
     ]
    }
   ],
   "source": [
    "# Appending user-entered information to a blank list\n",
    "ages = []\n",
    "age = int(input('Enter the age of the person. Enter -1 when done'))\n",
    "\n",
    "# we use a `while` loop because we do not know how many people will be in a group.\n",
    "while age != -1:\n",
    "    ages.append(age)\n",
    "    age = int(input('Enter the age of the person. Enter -1 when done'))\n",
    "\n",
    "print(ages)\n",
    "\n"
   ]
  },
  {
   "cell_type": "markdown",
   "metadata": {},
   "source": [
    "#### Indexing and Index Operations\n",
    "\n",
    "Indexing counts up from 0. It can also count down starting at -1. If you don't know the index of the last element of a list, use -1."
   ]
  },
  {
   "cell_type": "code",
   "execution_count": 32,
   "metadata": {},
   "outputs": [
    {
     "name": "stdout",
     "output_type": "stream",
     "text": [
      "56\n"
     ]
    }
   ],
   "source": [
    "print(ages[-1])"
   ]
  },
  {
   "cell_type": "markdown",
   "metadata": {},
   "source": [
    "##### Slicing\n",
    "\n",
    "You can take segments of lists by using a *slice*. The list is sliced by using a colon `:` in the square brackets `[]`. The number to the left of the colon is the starting point, the number on the right is where the slice stops (not including that index number). A slice without a number on either side will assume it means the end of the list, e.g., `[:4]` will slice from index 0 to 4, `[3:]` will slice index 3 through the last index of the list."
   ]
  },
  {
   "cell_type": "code",
   "execution_count": 33,
   "metadata": {},
   "outputs": [
    {
     "name": "stdout",
     "output_type": "stream",
     "text": [
      "[56, 56]\n"
     ]
    }
   ],
   "source": [
    "# Slice starts at index 2 and stops at index 4\n",
    "print(ages[2:4])"
   ]
  },
  {
   "cell_type": "code",
   "execution_count": 34,
   "metadata": {},
   "outputs": [
    {
     "name": "stdout",
     "output_type": "stream",
     "text": [
      "[56]\n",
      "[34]\n",
      "[34, 45, 56, 56]\n",
      "[34, 45, 56, 56]\n"
     ]
    }
   ],
   "source": [
    "print(ages[3:])\n",
    "print(ages[:-3])\n",
    "print(ages[:]) # entire list with slice; this makes a copy of a list if assigned to a variable\n",
    "print(ages) # entire list"
   ]
  },
  {
   "cell_type": "markdown",
   "metadata": {},
   "source": [
    "You can change lists using slices. "
   ]
  },
  {
   "cell_type": "code",
   "execution_count": 35,
   "metadata": {},
   "outputs": [
    {
     "name": "stdout",
     "output_type": "stream",
     "text": [
      "[24, 34, 45, 56, 64]\n"
     ]
    }
   ],
   "source": [
    "ages[0:0] = [24]\n",
    "ages[4:5] = [64]\n",
    "print(ages)"
   ]
  },
  {
   "cell_type": "code",
   "execution_count": 36,
   "metadata": {},
   "outputs": [
    {
     "name": "stdout",
     "output_type": "stream",
     "text": [
      "[30, 31, 31]\n"
     ]
    }
   ],
   "source": [
    "days_in_summer = days_in_month[5:8]\n",
    "print(days_in_summer)"
   ]
  },
  {
   "cell_type": "code",
   "execution_count": 37,
   "metadata": {},
   "outputs": [
    {
     "name": "stdout",
     "output_type": "stream",
     "text": [
      "[31, 30, 31]\n",
      "[31, 29, 31]\n"
     ]
    }
   ],
   "source": [
    "# Let's find the days in Fall and days in  Winter using a slice for each\n",
    "days_in_fall = days_in_month[-3:] # starts three indexes from the end and goes through the end\n",
    "days_in_winter = days_in_month[:3] # starts at index 0 and stops at index 3\n",
    "print(days_in_fall)\n",
    "print(days_in_winter)"
   ]
  },
  {
   "cell_type": "code",
   "execution_count": 38,
   "metadata": {},
   "outputs": [
    {
     "name": "stdout",
     "output_type": "stream",
     "text": [
      "[31, 29, 31, 31, 30, 31]\n",
      "Full year: [31, 29, 31, 30, 31, 30, 31, 31, 30, 31, 30, 31]\n",
      "Just Winter and Fall: [31, 29, 31, 31, 30, 31]\n"
     ]
    }
   ],
   "source": [
    "# Two ways to get a list with the days of Winter and Fall but not Spring and Summer\n",
    "\n",
    "# Option 1\n",
    "winter_and_fall_1 = days_in_winter + days_in_fall\n",
    "print(winter_and_fall_1)\n",
    "\n",
    "# Option 2\n",
    "winter_and_fall_2 = days_in_month[:]\n",
    "print(f'Full year: {winter_and_fall_2}')\n",
    "winter_and_fall_2[3:9] = [] # erases the info at indexes 3 through 8 by setting it to an empty list\n",
    "print(f'Just Winter and Fall: {winter_and_fall_2}')"
   ]
  },
  {
   "cell_type": "markdown",
   "metadata": {},
   "source": [
    "##### Strings are also like lists\n",
    "\n",
    "They can be sliced up like a list. They cannot be added to or deleted from though."
   ]
  },
  {
   "cell_type": "code",
   "execution_count": 39,
   "metadata": {},
   "outputs": [
    {
     "name": "stdout",
     "output_type": "stream",
     "text": [
      "filbert \n",
      "is\n",
      "doggie\n"
     ]
    }
   ],
   "source": [
    "example = 'filbert is a cool doggie'\n",
    "print(example[:8])\n",
    "print(example[8:10])\n",
    "print(example[-6:])"
   ]
  },
  {
   "cell_type": "markdown",
   "metadata": {},
   "source": [
    "##### Lists with Lists\n",
    "\n",
    "Lists can be made of lists, and lists of lists, and so on, and so on, and so on...\n",
    "\n",
    "To access a list within a list, use `[][]`."
   ]
  },
  {
   "cell_type": "code",
   "execution_count": 40,
   "metadata": {},
   "outputs": [
    {
     "name": "stdout",
     "output_type": "stream",
     "text": [
      "[1, 2, 3]\n",
      "6\n"
     ]
    }
   ],
   "source": [
    "list_of_lists = [[1, 2, 3], [4, 5, 6], [7, 8, 9]]\n",
    "print(list_of_lists[0])\n",
    "print(list_of_lists[1][2])"
   ]
  },
  {
   "cell_type": "markdown",
   "metadata": {},
   "source": [
    "Lists of lists can be handy for making things like grids—chess boards, etc."
   ]
  },
  {
   "cell_type": "code",
   "execution_count": 41,
   "metadata": {},
   "outputs": [],
   "source": [
    "board = [['r', 'n', 'b', 'q', 'k', 'b', 'n', 'r'],\n",
    "         ['p', 'p', 'p', 'p', 'p', 'p', 'p', 'p'],\n",
    "         ['.', '.', '.', '.', '.', '.', '.', '.'],\n",
    "         ['.', '.', '.', '.', '.', '.', '.', '.'],\n",
    "         ['.', '.', '.', '.', '.', '.', '.', '.'],\n",
    "         ['.', '.', '.', '.', '.', '.', '.', '.'],\n",
    "         ['P', 'P', 'P', 'P', 'P', 'P', 'P', 'P'],\n",
    "         ['R', 'N', 'B', 'Q', 'K', 'B', 'N', 'R']]"
   ]
  },
  {
   "cell_type": "markdown",
   "metadata": {},
   "source": [
    "##### Lists can have different item types\n",
    "\n",
    "Lists can have ints, floats, strings, etc. The better way to do mixed types is to make an Object"
   ]
  },
  {
   "cell_type": "markdown",
   "metadata": {},
   "source": [
    "#### Tuples\n",
    "\n",
    "A list of items, but the list is immutable and cannot be changed. You cannot modify by adding or deleting, or changing the values therein. You can access parts of a tuple using slices.\n",
    "\n",
    "Tuples are like lists, but use parentheses instead of square brackets.\n",
    "\n",
    "```python\n",
    "tuple1 = ('a', 'b', 'c')\n",
    "```"
   ]
  },
  {
   "cell_type": "code",
   "execution_count": 42,
   "metadata": {},
   "outputs": [
    {
     "name": "stdout",
     "output_type": "stream",
     "text": [
      "Enter a person's name, or 'stop' to quit: George\n",
      "Enter George's age: 32\n",
      "Enter a person's name, or 'stop' to quit: Pippa\n",
      "Enter Pippa's age: 43\n",
      "Enter a person's name, or 'stop' to quit: Elmo\n",
      "Enter Elmo's age: 5\n",
      "Enter a person's name, or 'stop' to quit: Chance\n",
      "Enter Chance's age: 3\n",
      "Enter a person's name, or 'stop' to quit: stop\n",
      "The oldest person in your list is Pippa at 43 years old.\n",
      "[32, 43, 5, 3]\n"
     ]
    }
   ],
   "source": [
    "# Parallel lists exercise: have a user enter a person's name and their age. Then output the oldest person\n",
    "\n",
    "# generate a list of names and a list of ages that will append until a user types 'stop'\n",
    "names = []\n",
    "ages = []\n",
    "name = input('Enter a person\\'s name, or \\'stop\\' to quit: ')\n",
    "while name != 'stop':\n",
    "    age = int(input(f'Enter {name}\\'s age: '))\n",
    "    names.append(name)\n",
    "    ages.append(age)\n",
    "    name = input('Enter a person\\'s name, or \\'stop\\' to quit: ')\n",
    "    \n",
    "# Find the largest number in the age list\n",
    "# Starting assumption is that the maximum age is at 0...the first person entered is the oldest\n",
    "maxindex = 0\n",
    "for i in range(1, len(ages)):\n",
    "    if ages[i] > ages[maxindex]:\n",
    "        maxindex = i\n",
    "        \n",
    "print(f'The oldest person in your list is {names[maxindex]} at {ages[maxindex]} years old.')\n",
    "print(ages)"
   ]
  },
  {
   "cell_type": "markdown",
   "metadata": {},
   "source": [
    "---\n",
    "## [Episode 8: Top-Down Design of a Data Analysis Program](https://epl.kanopy.com/video/top-down-design-data-analysis-program)\n",
    "\n",
    "This is a less in thinking ahead of time before you start writing code. For simple cases, yes, this can work. But for more complicated problems, we want to view the problem from the top and break down solving problems to more manageable chunks. This is called **top-down design**—a development paradigm.\n",
    "\n",
    "~~This lesson will build a weather app using top-down design.~~<br> \n",
    "***\n",
    "**Editorial note from this student**: I'm having difficulty locating my own good source for this. What I've learned from this lesson thus far is that the instructor has clean data without headers or missing data points, no source is provided, and that either my Duck-Duck-fu is bad or good historical local weather data is hard to find.\n",
    "\n",
    "That said, I did manage to make this work with a selection of data that was edited so that there was:\n",
    "1. No headers on the columns\n",
    "2. No missing data points\n",
    "3. No whitespace\n",
    "\n",
    "These can all be worked around in the real world, but that is outside the scope of this lesson. If you are struggling to find good data and need something clean, [Socratica](https://www.youtube.com/channel/UCW6TXMZ5Pq6yL6_k5NZ2e0Q)'s excellent Python tutorials, specifically [CSV Files in Python || Python Tutorial || Learn Python Programming](https://youtu.be/Xi52tx6phRU), provides a link to [this Google Docs CSV with historical stock data for Google](https://goo.gl/3zaUlD).\n",
    "\n",
    "<a href=\"http://www.youtube.com/watch?feature=player_embedded&v=Xi52tx6phRU\n",
    "\" target=\"_blank\"><img src=\"http://img.youtube.com/vi/Xi52tx6phRU/0.jpg\" \n",
    "alt=\"CSV Files in Python\" width=\"240\" height=\"180\" border=\"10\" /></a>\n",
    "\n",
    "I'm using that. Have fun. Now back to the lesson at hand.<br>\n",
    "***"
   ]
  },
  {
   "cell_type": "markdown",
   "metadata": {},
   "source": [
    "### Broadest Level\n",
    "\n",
    "What happens in this app?\n",
    "1. Read in Data\n",
    "2. Analyze Data\n",
    "3. Present Results\n",
    "\n",
    "These top-level items should be put in as comments. Next flesh out what happes within each section and make them comments. Going one level down:\n",
    "\n",
    "1. Read in Data\n",
    "  1. Open file\n",
    "    1. Get file name from user\n",
    "    2. Give open command\n",
    "  2. Read lines from file\n",
    "    1. Loop over all lines\n",
    "      1. Read line as a string\n",
    "      2. Get data from string\n",
    "        1. Split string on commas\n",
    "        2. Store each part in variable of right type\n",
    "      3. Store data in list\n",
    "  3. Close file\n",
    "2. Analyze Data\n",
    "  1. Get date from user\n",
    "    1. Ask user for month\n",
    "    2. Ask user for day\n",
    "  2. Find historical data for date\n",
    "    1. Loop through all historical data\n",
    "      1. Compare day and month to user's input\n",
    "      2. If day/month match, store that data in a new list\n",
    "  3. Analyze historical data\n",
    "    1. Loop over all the data\n",
    "      1. Count number of dates to get an average\n",
    "      2. Store max and min temp (price if using stock data)\n",
    "      3. Add up max and min temps (price if using stock data)\n",
    "    2. Compute average, max, and min\n",
    "3. Present Results\n",
    "  1. Print min, max\n",
    "  2. Print average low, average high"
   ]
  },
  {
   "cell_type": "code",
   "execution_count": 43,
   "metadata": {},
   "outputs": [
    {
     "name": "stdout",
     "output_type": "stream",
     "text": [
      "What is the name of the file you want to use: google_stock_data.csv\n"
     ]
    }
   ],
   "source": [
    "########## Read in Data ##########\n",
    "# Open File\n",
    "\n",
    "## Get file name from user\n",
    "filename = input('What is the name of the file you want to use: ')\n",
    "\n",
    "## Give open command\n",
    "infile = open(f'./test_texts/{filename}', 'r')\n",
    "next(infile) # skip past header line in csv; this is not in the lesson, but a result of seeing the error when a header could not convert to a float\n",
    "# print(infile.read()) # testing\n",
    "\n",
    "# Read lines from file\n",
    "datalist = [] \n",
    "\n",
    "## Loop over all lines\n",
    "for line in infile:\n",
    "    # get data from string\n",
    "    date, o, h, l, c, v, ac = line.split(',')\n",
    "#     print(date, r, s) # testing\n",
    "    opening = float(o)\n",
    "    high = float(h)\n",
    "    low = float(l)\n",
    "    closing = float(c)\n",
    "    volume = float(v)\n",
    "    adj_close = float(ac)\n",
    "    m, d, y = date.split('/')\n",
    "    month = int(m)\n",
    "    day = int(d)\n",
    "    year = int(y)\n",
    "    # put data into list\n",
    "    datalist.append([day, month, year, opening, closing, high, low, volume])\n",
    "# print(datalist) # testing\n",
    "\n",
    "# Close file\n",
    "infile.close()"
   ]
  },
  {
   "cell_type": "code",
   "execution_count": 44,
   "metadata": {},
   "outputs": [
    {
     "name": "stdout",
     "output_type": "stream",
     "text": [
      "What month (use a number): 4\n",
      "What date (use a number): 3\n",
      "[[564.132581, 587.282679], [800.671389, 814.201367], [638.641124, 647.951113], [358.000622, 371.720641], [448.130771, 463.290802], [464.00079, 474.250815], [387.930677, 392.470679]]\n"
     ]
    }
   ],
   "source": [
    "########## Analyze Data ##########\n",
    "# Get date from user\n",
    "## Ask user for month\n",
    "user_month = int(input('What month (use a number): '))\n",
    "\n",
    "## Ask user for day\n",
    "user_day = int(input('What date (use a number): '))\n",
    "\n",
    "# Find historical data for date\n",
    "good_data = []\n",
    "\n",
    "for single_day in datalist:\n",
    "    if (single_day[0] == user_day) and (single_day[1] == user_month):\n",
    "        good_data.append([single_day[6], single_day[5]])\n",
    "print(good_data) # testing\n",
    "\n",
    "# Analyze historical data\n",
    "minsofar = 1500 # values adjusted for stock values, not weather\n",
    "maxsofar = -100\n",
    "numgooddates = 0 # initialize counter\n",
    "sumofmin = 0 # initialize counter\n",
    "sumofmax = 0 # initialize counter\n",
    "\n",
    "## Loop over all the data\n",
    "for day in good_data:\n",
    "    ### Count number of dates to get an average\n",
    "    numgooddates += 1\n",
    "    ### Add up max and min temps (price if using stock data)\n",
    "    sumofmin += day[0]\n",
    "    sumofmax += day[1]\n",
    "    ### Store max and min temp (price if using stock data)\n",
    "    if day[0] < minsofar:\n",
    "        minsofar = day[0]\n",
    "    if day[1] > maxsofar:\n",
    "        maxsofar = day[1]\n",
    "# print(numgooddates) # testing\n",
    "        \n",
    "## Compute average, max, and min\n",
    "avg_low = round((sumofmin / numgooddates), 2)\n",
    "avg_high = round((sumofmax / numgooddates), 2)"
   ]
  },
  {
   "cell_type": "code",
   "execution_count": 45,
   "metadata": {},
   "outputs": [
    {
     "name": "stdout",
     "output_type": "stream",
     "text": [
      "There were 7 years' records for 4/3\n",
      "The lowest value in this record was $358.000622\n",
      "The highest value in this record was $814.201367\n",
      "The average low value was $523.07\n",
      "The average high value was $535.88\n"
     ]
    }
   ],
   "source": [
    "########## Present Results ##########\n",
    "print(f'There were {numgooddates} years\\' records for {user_month}/{user_day}')\n",
    "# Print min, max\n",
    "print(f'The lowest value in this record was ${minsofar}')\n",
    "print(f'The highest value in this record was ${maxsofar}')\n",
    "# Print average low, average high\n",
    "print(f'The average low value was ${round(avg_low, 4)}')\n",
    "print(f'The average high value was ${round(avg_high, 4)}')"
   ]
  },
  {
   "cell_type": "markdown",
   "metadata": {},
   "source": [
    "This analysis is dumb for stocks, but it was helpful as an exercise."
   ]
  },
  {
   "cell_type": "markdown",
   "metadata": {},
   "source": [
    "---\n",
    "## [Episode 9: Functions and Abstractions](https://epl.kanopy.com/video/functions-and-abstraction)\n",
    "\n",
    "### Functions\n",
    "Functions are commands or groups of logic that become a command that are essential to one of the most important concepts in computer programming: **Abstraction**.\n",
    "\n",
    "**Abstraction** hides away the complexity of a system to show a simpler interface. There are layers and layers of functions behind something so simple as a play button, for example.<br>\n",
    "Button press -> play file loaded into memory -> decode OGG file<br>\n",
    "All the user needs is to press a button and the software underneath works without them knowing what is going on.\n",
    "\n",
    "To enter this text, I am writing on a keyboard, the keystrokes are transmitted to a computer, and processed by a CPU, then printed to a screen.\n",
    "\n",
    "#### Functions in Python\n",
    "The term **function** is analygous to \"routine\", \"subroutine\", \"method\", etc., etc., in other programming languages.\n",
    "\n",
    "When using a function in Python we say we are \"calling the function\". When we have been using `print()` we have been calling a function. We send the data to that function, it does what it needs to print to the screen, and returns the argument in the parentheses printed to the screen.\n",
    "\n",
    "To write a function:\n",
    "```python\n",
    "def function_name(input): # <- this is called the header\n",
    "    # logic (indented) <- this is called the body\n",
    "```"
   ]
  },
  {
   "cell_type": "code",
   "execution_count": 46,
   "metadata": {},
   "outputs": [],
   "source": [
    "# Defining a function to return a statement to say 'hi'\n",
    "def say_hello(name):\n",
    "    print(f'Hello, {name}! I\\'m a print statement from a function you called!')"
   ]
  },
  {
   "cell_type": "code",
   "execution_count": 47,
   "metadata": {},
   "outputs": [
    {
     "name": "stdout",
     "output_type": "stream",
     "text": [
      "Hello, Johnnie! I'm a print statement from a function you called!\n",
      "Hello, Johnnie Doe! I'm a print statement from a function you called!\n"
     ]
    }
   ],
   "source": [
    "first_name = 'Johnnie'\n",
    "last_name = 'Doe'\n",
    "full_name = first_name + ' ' + last_name\n",
    "\n",
    "say_hello(first_name)\n",
    "say_hello(full_name)"
   ]
  },
  {
   "cell_type": "markdown",
   "metadata": {},
   "source": [
    "#### When to Use a Function\n",
    "1. If you are doing repetitive tasks in a program, that can often be put into a function.<br> \n",
    "    Using repetitive code means that if you copy-pasted the wrong info—something that has a bug—you have to fix all the bugs, whereas you could just **fix it once** in the function.\n",
    "\n",
    "2. Any time you have an idea or concept that is considered a single unit—something to encapsulate."
   ]
  },
  {
   "cell_type": "code",
   "execution_count": 48,
   "metadata": {},
   "outputs": [],
   "source": [
    "def getGuess():\n",
    "    user_guess = int(input(\"guess a number between 1 and 10: \"))\n",
    "    \n",
    "    while user_guess < 1 or user_guess > 10:\n",
    "        user_guess = int(input('guess a number between 1 and 10...please: '))\n",
    "    \n",
    "    return user_guess"
   ]
  },
  {
   "cell_type": "code",
   "execution_count": 49,
   "metadata": {},
   "outputs": [
    {
     "name": "stdout",
     "output_type": "stream",
     "text": [
      "guess a number between 1 and 10: 11\n",
      "guess a number between 1 and 10...please: 111\n",
      "guess a number between 1 and 10...please: 1111\n",
      "guess a number between 1 and 10...please: 11111\n",
      "guess a number between 1 and 10...please: 1\n"
     ]
    },
    {
     "data": {
      "text/plain": [
       "1"
      ]
     },
     "execution_count": 49,
     "metadata": {},
     "output_type": "execute_result"
    }
   ],
   "source": [
    "getGuess()"
   ]
  },
  {
   "cell_type": "markdown",
   "metadata": {},
   "source": [
    "#### Parameters\n",
    "Parameters are the arguments inside the parentheses—the input used by the function."
   ]
  },
  {
   "cell_type": "code",
   "execution_count": 50,
   "metadata": {},
   "outputs": [
    {
     "ename": "TypeError",
     "evalue": "getSum() missing 1 required positional argument: 'x'",
     "output_type": "error",
     "traceback": [
      "\u001b[1;31m---------------------------------------------------------------------------\u001b[0m",
      "\u001b[1;31mTypeError\u001b[0m                                 Traceback (most recent call last)",
      "\u001b[1;32m<ipython-input-50-66bf90f6cc76>\u001b[0m in \u001b[0;36m<module>\u001b[1;34m\u001b[0m\n\u001b[0;32m      2\u001b[0m     \u001b[1;32mreturn\u001b[0m \u001b[0mx\u001b[0m \u001b[1;33m*\u001b[0m \u001b[1;33m(\u001b[0m\u001b[0mx\u001b[0m \u001b[1;33m+\u001b[0m \u001b[1;36m1\u001b[0m\u001b[1;33m)\u001b[0m \u001b[1;33m/\u001b[0m \u001b[1;36m2\u001b[0m\u001b[1;33m\u001b[0m\u001b[1;33m\u001b[0m\u001b[0m\n\u001b[0;32m      3\u001b[0m \u001b[1;33m\u001b[0m\u001b[0m\n\u001b[1;32m----> 4\u001b[1;33m \u001b[0mtotal\u001b[0m \u001b[1;33m=\u001b[0m \u001b[0mgetSum\u001b[0m\u001b[1;33m(\u001b[0m\u001b[1;33m)\u001b[0m\u001b[1;33m\u001b[0m\u001b[1;33m\u001b[0m\u001b[0m\n\u001b[0m\u001b[0;32m      5\u001b[0m \u001b[0mprint\u001b[0m\u001b[1;33m(\u001b[0m\u001b[0mtotal\u001b[0m\u001b[1;33m)\u001b[0m\u001b[1;33m\u001b[0m\u001b[1;33m\u001b[0m\u001b[0m\n",
      "\u001b[1;31mTypeError\u001b[0m: getSum() missing 1 required positional argument: 'x'"
     ]
    }
   ],
   "source": [
    "def getSum(x):\n",
    "    return x * (x + 1) / 2\n",
    "\n",
    "total = getSum()\n",
    "print(total)"
   ]
  },
  {
   "cell_type": "code",
   "execution_count": null,
   "metadata": {},
   "outputs": [],
   "source": [
    "# Whoops, we forgot to put in a parameter! Let's try again.\n",
    "total = getSum(100)\n",
    "print(total)"
   ]
  },
  {
   "cell_type": "code",
   "execution_count": null,
   "metadata": {},
   "outputs": [],
   "source": [
    "# Function for Factorials\n",
    "\n",
    "# Pass in a number and return that number's factorial, i.e. the product of all the mumbers from 1 to the number\n",
    "def factorial(num):\n",
    "    product = 1\n",
    "    for i in range(1, num + 1):\n",
    "        product = product * i\n",
    "    return product\n",
    "\n",
    "print(factorial(4))\n",
    "print(factorial(55))"
   ]
  },
  {
   "cell_type": "markdown",
   "metadata": {},
   "source": [
    "Multiple parameters can be passed in. They are separated by a comma."
   ]
  },
  {
   "cell_type": "code",
   "execution_count": null,
   "metadata": {},
   "outputs": [],
   "source": [
    "def getFullName(a, b):\n",
    "    return a + ' ' + b\n",
    "\n",
    "getFullName('John', 'Smith')"
   ]
  },
  {
   "cell_type": "markdown",
   "metadata": {},
   "source": [
    "### Documenting Functions\n",
    "There is a standard way to document functions: use of a docstring near the function header.\n",
    "```python\n",
    "def getSpam(num):\n",
    "    '''Docstrings are in triple quotes (both single- and double-quote types).\n",
    "    This will print the number of cans of spam you enter as a parameter'''\n",
    "    print(f'You get {str(num)} cans of SPAM')\n",
    "```\n",
    "The docstring will show up when you enter the function as a parameter in `help()`.\n",
    "```python\n",
    "help(getSpam)\n",
    "```"
   ]
  },
  {
   "cell_type": "code",
   "execution_count": null,
   "metadata": {},
   "outputs": [],
   "source": [
    "def nuno(name):\n",
    "    '''Prints the name passed in and lets them know they're not as cool as Nuno Bettencourt.'''\n",
    "    print(f'Hello, {name}, I\\'m sure you\\'re pretty cool, but you cannot possibly be as cool as Nuno Bettencourt')\n",
    "    \n",
    "help(nuno)"
   ]
  },
  {
   "cell_type": "code",
   "execution_count": null,
   "metadata": {},
   "outputs": [],
   "source": [
    "help(print)"
   ]
  },
  {
   "cell_type": "code",
   "execution_count": null,
   "metadata": {},
   "outputs": [],
   "source": [
    "# Function Exercise\n",
    "'''\n",
    "1. Write a function that takes in a string and a letter as parameters\n",
    "2. The function should count how many times a letter appears in a string\n",
    "3. Write the code so you can test it\n",
    "'''\n",
    "\n",
    "def letter_counter(words, letter):\n",
    "    '''\n",
    "    A function that counts the number of occurances of a letter in a \n",
    "    user-entered word, phrase, or sentence.\n",
    "        Takes in two arguments:\n",
    "            - A word, phrase, or sentence\n",
    "            - A letter\n",
    "    '''\n",
    "    counter = 0\n",
    "    for l in words:\n",
    "        if l == letter:\n",
    "            counter += 1\n",
    "    print(f'\\nThere are {counter} instances of the letter \"{letter.upper()}\" in that phrase')\n",
    "    \n",
    "user_sentence = input('Please enter a word, phrase, or sentence: ')\n",
    "user_letter = input('Enter a letter to see how many times it is in your word, phrase, or sentence: ')\n",
    "\n",
    "letter_counter(user_sentence, user_letter)"
   ]
  },
  {
   "cell_type": "markdown",
   "metadata": {},
   "source": [
    "##### Video solution\n",
    "```python\n",
    "def countChar(ch, teststring):\n",
    "    count = 0\n",
    "    for i in range(len(teststring)):\n",
    "        if teststring[i] == ch:\n",
    "            count += 1\n",
    "    return count\n",
    "\n",
    "print(countChar('e', 'The quick brown fox jumped over the lazy dogs.'))\n",
    "```"
   ]
  },
  {
   "cell_type": "markdown",
   "metadata": {},
   "source": [
    "---\n",
    "## [Episode 10: Parameter Passing, Scope, and Mutable Data](https://epl.kanopy.com/video/parameter-passing-scope-and-mutable-data)\n",
    "\n",
    "### Parameters\n",
    "Parameters are the main way to get info into a function. They are passed in during a function call. **They are seen within the function as variables**. \n",
    "\n",
    "### Scope\n",
    "A variable is \"in scope\" when it is defined and usable. A variable in a function is \"out of scope\" from the main program.\n",
    "\n",
    "### Memory and a Program\n",
    "Consider this demo and look at what happens in memory.\n",
    "```python\n",
    "def maxdemo(val1, val2):\n",
    "    if val1 > val2:\n",
    "        return val1\n",
    "    else:\n",
    "        return val2\n",
    "    \n",
    "a = 1\n",
    "b = 2\n",
    "c = maxdemo(a, b)\n",
    "```\n",
    "In main memory, the first thing that happens is that variable `a` is assigned the value 1. Then `b` assigned to 2. Then when the function is called it is put in *temporary memory*, or *function activation record*.\n",
    "\n",
    "Local variables 'val1' and 'val2' are created in the function activation record into new memory locations. After the function executes it is moved out of memory. The function activation record is destroyed and the program moves on to the next line in the main program.\n",
    "\n",
    "You can write functions without worrying that a variable in scope will interfere with a variable with the same name that is out of scope.\n",
    "\n",
    "In this example, however, the variable `a` is available for reading from the main program.\n",
    "```python\n",
    "def testscore(numcorrect, total):\n",
    "    numcorrect += a\n",
    "    temp_value = numcorrect / total\n",
    "    return temp_value * 100\n",
    "\n",
    "a = 12\n",
    "b = 20\n",
    "c = testscore(a, b)\n",
    "```\n",
    "This is because there is no locally defined variable `a` defined within the function activation record. It goes back to the main program for the most recent assigned vaule to `a` and is still considered \"in scope\" **for reading**. If we try to assign something to `a` it would be a new variable in the function activation record. This is considered bad practice though. If you want to use a variable from the main program, it is best to declare it as a *global variable* in the function.\n",
    "\n",
    "#### Global Variables\n",
    "When a variable is defined as a global variable in the function it is the same variable as the main program.\n",
    "```python\n",
    "def initialize():\n",
    "    global fuellevel\n",
    "    fuellevel = 100.0\n",
    "    \n",
    "fuellevel = 0\n",
    "initialize()\n",
    "print(fuellevel)\n",
    "```\n",
    "Without `global` being declared within the function, `print(fuellevel)` would print 0. Now that it is using the variable from the main program, it is affecting the variable in the main program.\n",
    "\n",
    "Declaring a variable as `global` is generally discouraged but there are some uses where it is useful:\n",
    "- initializing values\n",
    "- read in data and set up variables\n",
    "\n",
    "#### Mutable Variables\n",
    "Variables can be mutable (changable when passed as a parameter) or immutable (not changable when passed as a parameter). `int`, `float`, and `str` are immutable variable types. Lists are a mutable variable type. If a variable is immutable, a function cannot change it. If it is mutable the function can change the value. "
   ]
  },
  {
   "cell_type": "code",
   "execution_count": null,
   "metadata": {},
   "outputs": [],
   "source": [
    "# This function adds num2 to num1, doesn't return anything\n",
    "def addstuff(val1, val2):\n",
    "    val1 += val2"
   ]
  },
  {
   "cell_type": "code",
   "execution_count": null,
   "metadata": {},
   "outputs": [],
   "source": [
    "# Ints are immutable datatypes\n",
    "num1 = 3\n",
    "num2 = 4\n",
    "addstuff(num1, num2)\n",
    "print(num1)"
   ]
  },
  {
   "cell_type": "code",
   "execution_count": null,
   "metadata": {},
   "outputs": [],
   "source": [
    "# Floats are immutable\n",
    "num1 = 3.5\n",
    "num2 = 3.5\n",
    "addstuff(num1, num2)\n",
    "print(num1)"
   ]
  },
  {
   "cell_type": "code",
   "execution_count": null,
   "metadata": {},
   "outputs": [],
   "source": [
    "# Strings are immutable\n",
    "num1 = \"Hello\"\n",
    "num2 = \"World\"\n",
    "addstuff(num1, num2)\n",
    "print(num1)"
   ]
  },
  {
   "cell_type": "code",
   "execution_count": null,
   "metadata": {},
   "outputs": [],
   "source": [
    "# Lists are mutable\n",
    "num1 = [1, 2, 3]\n",
    "num2 = [4, 5, 6]\n",
    "addstuff(num1, num2)\n",
    "print(num1)"
   ]
  },
  {
   "cell_type": "markdown",
   "metadata": {},
   "source": [
    "Mutable data types are really references (aka pointers) to data values. In the last example when the function is called we are sending the references to the lists `num1` and `num2` in memory. We are *passing by value* in Python."
   ]
  },
  {
   "cell_type": "markdown",
   "metadata": {},
   "source": [
    "##### Default Parameters\n",
    "Parameters can have default parameters if the user does not specify it. In a function, you would specify a default parameter by using `=` between the parameter and the default value. These are at the end of the parentheses."
   ]
  },
  {
   "cell_type": "code",
   "execution_count": null,
   "metadata": {},
   "outputs": [],
   "source": [
    "def language(a, b=\"python\"):\n",
    "    print(f'I like {a} but I\\'m better at {b}')"
   ]
  },
  {
   "cell_type": "code",
   "execution_count": null,
   "metadata": {},
   "outputs": [],
   "source": [
    "js = 'javascript'\n",
    "cpp = 'c++'\n",
    "language(js, cpp)\n",
    "language(js)"
   ]
  },
  {
   "cell_type": "markdown",
   "metadata": {},
   "source": [
    "---\n",
    "## [Episode 11: Error Types, Systematic Debugging, Exceptions](https://epl.kanopy.com/video/error-types-systematic-debugging-exceptions)\n",
    "Bugs = bad\n",
    "\n",
    "Test suites and debuggers to the rescue. \n",
    "\n",
    "A bug is a mistake made by a programmer. All programmers have bugs. With experience bugs go down. But with experience finding and elimitating gets faster and easier for a programmer.\n",
    "\n",
    "#### Syntax Errors\n",
    "Errors that the interpreter knows is wrong.\n",
    "\n",
    "#### Runtime Errors\n",
    "Bugs that are encountered when a program runs.\n",
    "\n",
    "#### Logic Errors\n",
    "Hardest to find. Code that generates output and runs perfectly fine, but the output does not actually contain the desired result. E.g., switching months and days in output.\n",
    "\n",
    "### Debugging\n",
    "1. Create thorough tests\n",
    "2. Isolate the error\n",
    "3. Test the fix\n",
    "\n",
    "##### Test suite\n",
    "Set of tests that make sure code is working right. In an ideal world you write these tests before developing software. In the real world you write tests alongside development.\n",
    "\n",
    "Look for edge or extreme test cases to start. If you're working with a month, the extremes are the first day and the last day.\n",
    "\n",
    "Middle cases would be 2 - 28 in the month. \n",
    "\n",
    "Many programmers use `print()` statements to see what's happening along the way.\n",
    "\n"
   ]
  },
  {
   "cell_type": "markdown",
   "metadata": {},
   "source": [
    "##### Debuggers\n",
    "Tools that help identify bugs by examining code in detail. Often these are in IDEs. The instructor uses PyCharm."
   ]
  },
  {
   "cell_type": "markdown",
   "metadata": {},
   "source": [
    "#### Runtime Errors\n",
    "The difference in runtime errors and logic errors is how we treat them: exceptions.\n",
    "\n",
    "Exceptions are handled in Python with *try-except blocks*."
   ]
  },
  {
   "cell_type": "markdown",
   "metadata": {},
   "source": [
    "```python\n",
    "filename = input('enter the name of the file: ')\n",
    "\n",
    "try:\n",
    "    myfile = open(filename, 'r')\n",
    "except OSError:\n",
    "    print('That file could not be opened. Using default file.')\n",
    "    myfile = open(\"Default.txt\", 'r')\n",
    "```"
   ]
  },
  {
   "cell_type": "markdown",
   "metadata": {},
   "source": [
    "In the above example, we had to know that we would be looking for an OSError. There are other built-in exceptions in Python. \n",
    "\n",
    "Programmers can also `raise` exceptions.\n",
    "\n",
    "```python\n",
    "def find_pattern(pattern, sequence):\n",
    "    if len(pattern) != 5\n",
    "    # expected pattern of length 5\n",
    "    raise TypeError\n",
    "```\n",
    "\n",
    "Exceptions should be used for exceptional situations. Avoid using them at the point where a problem is detected."
   ]
  },
  {
   "cell_type": "markdown",
   "metadata": {},
   "source": [
    "---\n",
    "## [Episode 12: Python Standard Library, Modules, Packages](https://epl.kanopy.com/video/python-standard-library-modules-packages)"
   ]
  },
  {
   "cell_type": "markdown",
   "metadata": {},
   "source": [
    "Modules, aka libraries, are collections of functions that are packaged up and used across various environments. \n",
    "\n",
    "Modules need to be imported. \n",
    "\n",
    "Different modules do different things. Examples of libraries:\n",
    "- ssl\n",
    "- math\n",
    "- webbrowser\n",
    "- turtle\n",
    "\n",
    "There are Python Standard Library modules distributed with the program and other modules elsewhere.\n",
    "[https://pypi.python.org](https://pypi.python.org)"
   ]
  },
  {
   "cell_type": "code",
   "execution_count": 15,
   "metadata": {},
   "outputs": [
    {
     "name": "stdout",
     "output_type": "stream",
     "text": [
      "\n",
      "Please wait a moment while I gather a list of all available modules...\n",
      "\n"
     ]
    },
    {
     "name": "stderr",
     "output_type": "stream",
     "text": [
      "C:\\Users\\sandr\\Anaconda3\\lib\\site-packages\\IPython\\kernel\\__init__.py:13: ShimWarning: The `IPython.kernel` package has been deprecated since IPython 4.0.You should import from ipykernel or jupyter_client instead.\n",
      "  \"You should import from ipykernel or jupyter_client instead.\", ShimWarning)\n",
      "WARNING: AstropyDeprecationWarning: astropy.utils.compat.futures is now deprecated - use concurrent.futures instead [astropy.utils.compat.futures]\n",
      "C:\\Users\\sandr\\Anaconda3\\lib\\site-packages\\odo\\backends\\pandas.py:102: FutureWarning: pandas.tslib is deprecated and will be removed in a future version.\n",
      "You can access NaTType as type(pandas.NaT)\n",
      "  @convert.register((pd.Timestamp, pd.Timedelta), (pd.tslib.NaTType, type(None)))\n",
      "C:\\Users\\sandr\\Anaconda3\\lib\\site-packages\\nltk\\twitter\\__init__.py:22: UserWarning: The twython library has not been installed. Some functionality from the twitter package will not be available.\n",
      "  \"The twython library has not been installed. \"\n"
     ]
    },
    {
     "name": "stdout",
     "output_type": "stream",
     "text": [
      "DEBUG:pip._internal.vcs:Registered VCS backend: git\n",
      "DEBUG:pip._internal.vcs:Registered VCS backend: hg\n",
      "DEBUG:pip._internal.vcs:Registered VCS backend: svn\n",
      "DEBUG:pip._internal.vcs:Registered VCS backend: bzr\n"
     ]
    },
    {
     "name": "stderr",
     "output_type": "stream",
     "text": [
      "C:\\Users\\sandr\\Anaconda3\\lib\\site-packages\\skimage\\novice\\__init__.py:103: UserWarning: The `skimage.novice` module was deprecated in version 0.14. It will be removed in 0.16.\n",
      "  warnings.warn(\"The `skimage.novice` module was deprecated in version 0.14. \"\n",
      "C:\\Users\\sandr\\Anaconda3\\lib\\site-packages\\skimage\\viewer\\utils\\core.py:10: UserWarning: Recommended matplotlib backend is `Agg` for full skimage.viewer functionality.\n",
      "  warn(\"Recommended matplotlib backend is `Agg` for full \"\n",
      "C:\\Users\\sandr\\Anaconda3\\lib\\site-packages\\sphinx\\websupport\\__init__.py:25: RemovedInSphinx20Warning: sphinx.websupport module is now provided as sphinxcontrib-websupport. sphinx.websupport will be removed at Sphinx-2.0. Please use the package instead.\n",
      "  RemovedInSphinx20Warning)\n",
      "C:\\Users\\sandr\\Anaconda3\\lib\\site-packages\\qtawesome\\iconic_font.py:276: UserWarning: You need to have a running QApplication to use QtAwesome!\n",
      "  warnings.warn(\"You need to have a running \"\n",
      "C:\\Users\\sandr\\Anaconda3\\lib\\pkgutil.py:107: VisibleDeprecationWarning: zmq.eventloop.minitornado is deprecated in pyzmq 14.0 and will be removed.\n",
      "    Install tornado itself to use zmq with the tornado IOLoop.\n",
      "    \n",
      "  yield from walk_packages(path, info.name+'.', onerror)\n"
     ]
    },
    {
     "name": "stdout",
     "output_type": "stream",
     "text": [
      "Crypto              bz2                 marshal             sortedcollections\n",
      "Cython              cProfile            marshmallow         sortedcontainers\n",
      "IPython             calendar            marshmallow_sqlalchemy sphinx\n",
      "ModuleA             certifi             math                sphinxcontrib\n",
      "ModuleDemo          cffi                matplotlib          spyder\n",
      "OpenSSL             cgi                 mccabe              spyder_breakpoints\n",
      "PIL                 cgitb               menuinst            spyder_io_dcm\n",
      "PyQt5               chardet             mimetypes           spyder_io_hdf5\n",
      "__future__          chunk               mistune             spyder_kernels\n",
      "_abc                click               mkl                 spyder_profiler\n",
      "_ast                cloudpickle         mkl_fft             spyder_pylint\n",
      "_asyncio            clyent              mkl_random          sqlalchemy\n",
      "_bisect             cmath               mmap                sqlite3\n",
      "_blake2             cmd                 mmapfile            sre_compile\n",
      "_bootlocale         code                mmsystem            sre_constants\n",
      "_bz2                codecs              modulefinder        sre_parse\n",
      "_cffi_backend       codeop              more_itertools      ssl\n",
      "_codecs             collections         mpmath              sspi\n",
      "_codecs_cn          colorama            msgpack             sspicon\n",
      "_codecs_hk          colorsys            msilib              stat\n",
      "_codecs_iso2022     commctrl            msvcrt              statistics\n",
      "_codecs_jp          compileall          multipledispatch    statsmodels\n",
      "_codecs_kr          comtypes            multiprocessing     storemagic\n",
      "_codecs_tw          concurrent          navigator_updater   string\n",
      "_collections        conda               nbconvert           stringprep\n",
      "_collections_abc    conda_build         nbformat            struct\n",
      "_compat_pickle      conda_env           netbios             subprocess\n",
      "_compression        conda_package_handling netrc               sunau\n",
      "_contextvars        conda_verify        networkx            symbol\n",
      "_csv                configparser        nltk                sympy\n",
      "_ctypes             contextlib          nntplib             sympyprinting\n",
      "_ctypes_test        contextlib2         nose                symtable\n",
      "_datetime           contextvars         notebook            sys\n",
      "_decimal            copy                nt                  sysconfig\n",
      "_distutils_findvs   copyreg             ntpath              tables\n",
      "_dummy_thread       crypt               ntsecuritycon       tabnanny\n",
      "_elementtree        cryptography        nturl2path          tarfile\n",
      "_functools          csv                 numba               tblib\n",
      "_hashlib            ctypes              numbers             telnetlib\n",
      "_heapq              curl                numexpr             tempfile\n",
      "_imp                curses              numpy               terminado\n",
      "_io                 cwp                 numpydoc            test\n",
      "_json               cycler              odbc                test_data\n",
      "_locale             cython              odo                 test_path\n",
      "_lsprof             cythonmagic         olefile             test_pycosat\n",
      "_lzma               cytoolz             opcode              testpath\n",
      "_markupbase         dask                openpyxl            tests\n",
      "_md5                dataclasses         operator            textwrap\n",
      "_msi                datashape           optparse            this\n",
      "_multibytecodec     datetime            os                  threading\n",
      "_multiprocessing    dateutil            packaging           time\n",
      "_nsis               dbi                 pandas              timeit\n",
      "_opcode             dbm                 pandocfilters       timer\n",
      "_operator           dde                 parser              tkinter\n",
      "_osx_support        decimal             parso               tlz\n",
      "_overlapped         decorator           partd               token\n",
      "_pickle             defusedxml          past                tokenize\n",
      "_py_abc             difflib             path                toolz\n",
      "_pydecimal          dis                 pathlib             tornado\n",
      "_pyio               distributed         pathlib2            tqdm\n",
      "_pytest             distutils           patsy               trace\n",
      "_queue              doctest             pdb                 traceback\n",
      "_random             docutils            pep8                tracemalloc\n",
      "_sha1               dummy_threading     perfmon             traitlets\n",
      "_sha256             easy_install        pickle              tty\n",
      "_sha3               editor              pickleshare         turtle\n",
      "_sha512             email               pickletools         turtledemo\n",
      "_signal             encodings           pip                 twilio\n",
      "_sitebuiltins       ensurepip           pipes               types\n",
      "_socket             entrypoints         pkg_resources       typing\n",
      "_sqlite3            enum                pkginfo             unicodecsv\n",
      "_sre                errno               pkgutil             unicodedata\n",
      "_ssl                et_xmlfile          platform            unittest\n",
      "_stat               fastcache           plistlib            urllib\n",
      "_string             faulthandler        pluggy              urllib3\n",
      "_strptime           filecmp             ply                 uu\n",
      "_struct             fileinput           poplib              uuid\n",
      "_symtable           filelock            posixpath           venv\n",
      "_system_path        flask               pprint              virtualenv\n",
      "_testbuffer         flask_bcrypt        profile             virtualenv_support\n",
      "_testcapi           flask_cors          prometheus_client   warnings\n",
      "_testconsole        flask_login         prompt_toolkit      wave\n",
      "_testimportmultiple flask_marshmallow   pstats              wcwidth\n",
      "_testmultiphase     flask_migrate       psutil              weakref\n",
      "_thread             flask_sqlalchemy    psycopg2            webbrowser\n",
      "_threading_local    flask_wtf           pty                 webencodings\n",
      "_tkinter            fnmatch             py                  werkzeug\n",
      "_tracemalloc        formatter           py_compile          wheel\n",
      "_warnings           fractions           pyclbr              widgetsnbextension\n",
      "_weakref            ftplib              pycodestyle         win2kras\n",
      "_weakrefset         functools           pycosat             win32api\n",
      "_win32sysloader     future              pycparser           win32clipboard\n",
      "_winapi             gc                  pycurl              win32com\n",
      "_winxptheme         genericpath         pydoc               win32con\n",
      "_yaml               getopt              pydoc_data          win32console\n",
      "abc                 getpass             pyexpat             win32cred\n",
      "adodbapi            gettext             pyflakes            win32crypt\n",
      "afxres              gevent              pygments            win32cryptcon\n",
      "aifc                glob                pylab               win32event\n",
      "alabaster           glob2               pylint              win32evtlog\n",
      "alembic             greenlet            pyodbc              win32evtlogutil\n",
      "anaconda_navigator  gunicorn            pyparsing           win32file\n",
      "anaconda_project    gzip                pytest              win32gui\n",
      "antigravity         h5py                pytest_arraydiff    win32gui_struct\n",
      "argparse            hashlib             pytest_doctestplus  win32help\n",
      "array               heapdict            pytest_openfiles    win32inet\n",
      "asn1crypto          heapq               pytest_remotedata   win32inetcon\n",
      "ast                 hmac                pythoncom           win32job\n",
      "astroid             html                pytz                win32lz\n",
      "astropy             html5lib            pywin               win32net\n",
      "asynchat            http                pywin32_testutil    win32netcon\n",
      "asyncio             idlelib             pywintypes          win32pdh\n",
      "asyncore            idna                pywt                win32pdhquery\n",
      "atexit              imageio             pyximport           win32pdhutil\n",
      "atomicwrites        imagesize           qtawesome           win32pipe\n",
      "attr                imaplib             qtconsole           win32print\n",
      "audioop             imghdr              qtpy                win32process\n",
      "autoreload          imp                 queue               win32profile\n",
      "babel               importlib           quopri              win32ras\n",
      "backcall            importlib_metadata  random              win32rcparser\n",
      "backports           inspect             rasutil             win32security\n",
      "base64              io                  re                  win32service\n",
      "bcrypt              ipaddress           regcheck            win32serviceutil\n",
      "bdb                 ipykernel           regutil             win32timezone\n",
      "binascii            ipykernel_launcher  reprlib             win32trace\n",
      "binhex              ipython_genutils    requests            win32traceutil\n",
      "binstar_client      ipywidgets          rlcompleter         win32transaction\n",
      "bisect              isapi               rmagic              win32ts\n",
      "bitarray            isort               rope                win32ui\n",
      "bkcharts            isympy              ruamel_yaml         win32uiole\n",
      "blaze               itertools           run                 win32verstamp\n",
      "bleach              itsdangerous        runpy               win32wnet\n",
      "bokeh               jdcal               sched               win_inet_pton\n",
      "boto                jedi                scipy               win_unicode_console\n",
      "bottleneck          jinja2              scripts             wincertstore\n",
      "brain_argparse      json                seaborn             winerror\n",
      "brain_attrs         jsonschema          secrets             winioctlcon\n",
      "brain_builtin_inference jupyter             select              winnt\n",
      "brain_collections   jupyter_client      selectors           winperf\n",
      "brain_curses        jupyter_console     send2trash          winpty\n",
      "brain_dateutil      jupyter_core        servicemanager      winreg\n",
      "brain_fstrings      jupyterlab          setuptools          winsound\n",
      "brain_functools     jupyterlab_server   shelve              winxpgui\n",
      "brain_gi            jwt                 shlex               winxptheme\n",
      "brain_hashlib       keyring             shutil              wrapt\n",
      "brain_io            keyword             signal              wsgiref\n",
      "brain_mechanize     kiwisolver          simplegeneric       wtforms\n",
      "brain_multiprocessing lazy_object_proxy   singledispatch      xdrlib\n",
      "brain_namedtuple_enum lib2to3             singledispatch_helpers xlrd\n",
      "brain_nose          libarchive          sip                 xlsxwriter\n",
      "brain_numpy         libfuturize         sipconfig           xlwings\n",
      "brain_pkg_resources libpasteurize       sipdistutils        xlwt\n",
      "brain_pytest        linecache           site                xml\n",
      "brain_qt            llvmlite            six                 xmlrpc\n",
      "brain_random        locale              skimage             xxsubtype\n",
      "brain_re            locket              sklearn             yaml\n",
      "brain_six           logging             smtpd               zict\n",
      "brain_ssl           lxml                smtplib             zipapp\n",
      "brain_subprocess    lzma                sndhdr              zipfile\n",
      "brain_threading     macpath             snowballstemmer     zipimport\n",
      "brain_typing        mailbox             socket              zlib\n",
      "brain_uuid          mailcap             socketserver        zmq\n",
      "bs4                 mako                socks               \n",
      "builtins            markupsafe          sockshandler        \n",
      "\n",
      "Enter any module name to get more help.  Or, type \"modules spam\" to search\n",
      "for modules whose name or summary contain the string \"spam\".\n",
      "\n",
      "DEBUG:matplotlib.pyplot:Loaded backend module://ipykernel.pylab.backend_inline version unknown.\n"
     ]
    }
   ],
   "source": [
    "help(\"modules\")"
   ]
  },
  {
   "cell_type": "markdown",
   "metadata": {},
   "source": [
    "Modules are abstractions. They all end in .py. There are two demo files in this folder."
   ]
  },
  {
   "cell_type": "code",
   "execution_count": 3,
   "metadata": {},
   "outputs": [],
   "source": [
    "import ModuleA"
   ]
  },
  {
   "cell_type": "markdown",
   "metadata": {},
   "source": [
    "Modules:\n",
    "- Define a set of functions to be used in later programming\n",
    "- Define variables\n",
    "- Define classes (which will be taught later)"
   ]
  },
  {
   "cell_type": "code",
   "execution_count": 4,
   "metadata": {},
   "outputs": [
    {
     "name": "stdout",
     "output_type": "stream",
     "text": [
      "204\n"
     ]
    }
   ],
   "source": [
    "# Accessing a function from an imported module\n",
    "n = ModuleA.sum_of_squares(8)\n",
    "print(n)"
   ]
  },
  {
   "cell_type": "markdown",
   "metadata": {},
   "source": [
    "Use the `.` notation to make sure you are using the correct or intended functions, classes, etc. There can be multiple modules that utilize the same names for functions, so you'll want to make sure that it is what you intended by using `module_name.function()` in your code.\n",
    "\n",
    "To avoid always having to type the dot (`.`) notation, you can import functions and classes directly by using `from`. Ex:<br>\n",
    "`from ModuleA import sum_of_sq`<br>\n",
    "Now we can use `sum_of_sq` directly in the code."
   ]
  },
  {
   "cell_type": "code",
   "execution_count": 5,
   "metadata": {},
   "outputs": [
    {
     "name": "stdout",
     "output_type": "stream",
     "text": [
      "30\n",
      "64\n"
     ]
    }
   ],
   "source": [
    "from ModuleA import sum_of_squares, sum_of_cubes\n",
    "\n",
    "print(sum_of_squares(4))\n",
    "print(sum_of_cubes(4))"
   ]
  },
  {
   "cell_type": "markdown",
   "metadata": {},
   "source": [
    "If you are very sure about all the functions included in a module you can use `from Module import *` to import all the functions for use in your file. If you do this you run the danger of using an imported function that will override an existing one in your code."
   ]
  },
  {
   "cell_type": "markdown",
   "metadata": {},
   "source": [
    "Generally, modules are collections of code that are grouped to accomplish a task or set of tasks. They work to accomplish a common goal."
   ]
  },
  {
   "cell_type": "markdown",
   "metadata": {},
   "source": [
    "### Python Standard Library Modules\n",
    "\n",
    "A set of modules installed with a Python installation. They still have to be imported into programs, but they are available to anyone with the distribution.\n",
    "\n",
    "The documentation is available at [python.org](https://www.python.org)"
   ]
  },
  {
   "cell_type": "code",
   "execution_count": 6,
   "metadata": {},
   "outputs": [
    {
     "data": {
      "text/plain": [
       "True"
      ]
     },
     "execution_count": 6,
     "metadata": {},
     "output_type": "execute_result"
    }
   ],
   "source": [
    "# An example of a standard library module, webbrowser\n",
    "# Running this cell will open the page in the string below\n",
    "import webbrowser\n",
    "\n",
    "webbrowser.open('https://www.kanopy.com')"
   ]
  },
  {
   "cell_type": "markdown",
   "metadata": {},
   "source": [
    "There are modules for a lot of different functionality. Some are for math, others for files and operating system work, others for internet data."
   ]
  },
  {
   "cell_type": "markdown",
   "metadata": {},
   "source": [
    "### Third-Party Publicly-Distributed Modules\n",
    "\n",
    "A **package** is a collection of modules. There are modules and packages all over the Internet. \n",
    "\n",
    "#### Creating a Package\n",
    "Modules in a directory require a special file to be placed in that directory. That file is **__init__.py**. It can be an empty file, but it has to exist. Any subdirectories can have also have __init__.py files. This would make it a sub-package off of the main package.\n",
    "\n",
    "There is a folder structure set up as a package in this repository.<br>\n",
    "```\n",
    "./MyFavoritePrograms\n",
    "    /FunPrograms\n",
    "        __init__.py\n",
    "        ModuleC.py\n",
    "    __init__.py\n",
    "    ModuleA.py\n",
    "    ModuleB.py\n",
    "```\n",
    "Each of the Module files are the same aside from the name of the file itself. "
   ]
  },
  {
   "cell_type": "code",
   "execution_count": 8,
   "metadata": {},
   "outputs": [
    {
     "name": "stdout",
     "output_type": "stream",
     "text": [
      "1\n",
      "8\n",
      "27\n"
     ]
    }
   ],
   "source": [
    "# Here we are going to import functions from each module\n",
    "\n",
    "import MyFavoritePrograms.ModuleA\n",
    "print(MyFavoritePrograms.ModuleA.sum_of_cubes(1))\n",
    "\n",
    "from MyFavoritePrograms import ModuleB\n",
    "print(ModuleB.sum_of_cubes(2))\n",
    "\n",
    "import MyFavoritePrograms.FunPrograms.ModuleC\n",
    "print(MyFavoritePrograms.FunPrograms.ModuleC.sum_of_cubes(3))"
   ]
  },
  {
   "cell_type": "markdown",
   "metadata": {},
   "source": [
    "Some popular third-party packages:\n",
    "- NumPy/SciPy<br>\n",
    "   Mathematical and scientific computing\n",
    "- Matplotlib<br>\n",
    "   Graphing/plotting\n",
    "- Zero MQ<br>\n",
    "   Messaging\n",
    "- Twisted<br>\n",
    "   Networking\n",
    "- BeautifulSoap<br>\n",
    "   Processes HTML files\n",
    "- Requests<br>\n",
    "   Getting data files over the web"
   ]
  },
  {
   "cell_type": "markdown",
   "metadata": {},
   "source": [
    "Python Package Index (PyPI)<br>\n",
    "https://pypi.python.org/pypi\n",
    "\n",
    "A central hub for Python Packages. Not necessarily all good. In fact, probably a lot of crap. If you want to look for useful and/or popular packages, check out:<br>\n",
    "https://pypi-ranking.info/alltime"
   ]
  },
  {
   "cell_type": "markdown",
   "metadata": {},
   "source": [
    "You can download packages from websites, and **pip**. Use pip in the command line.\n",
    "\n",
    "`python -m pip install <package name>`"
   ]
  },
  {
   "cell_type": "markdown",
   "metadata": {},
   "source": [
    "Once a package is installed, you can check out functions provided with the `dir()` command passing in the package name"
   ]
  },
  {
   "cell_type": "code",
   "execution_count": null,
   "metadata": {},
   "outputs": [],
   "source": [
    "import math\n",
    "print(dir(math))"
   ]
  }
 ],
 "metadata": {
  "kernelspec": {
   "display_name": "Python 3",
   "language": "python",
   "name": "python3"
  },
  "language_info": {
   "codemirror_mode": {
    "name": "ipython",
    "version": 3
   },
   "file_extension": ".py",
   "mimetype": "text/x-python",
   "name": "python",
   "nbconvert_exporter": "python",
   "pygments_lexer": "ipython3",
   "version": "3.7.1"
  }
 },
 "nbformat": 4,
 "nbformat_minor": 4
}
