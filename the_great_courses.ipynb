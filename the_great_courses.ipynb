{
 "cells": [
  {
   "cell_type": "markdown",
   "metadata": {},
   "source": [
    "# The Great Courses: How to Program\n",
    "## Hosted at [Kanopy.com](https://epl.kanopy.com/video/how-program)\n",
    "\n",
    "This course requires login credentials, in this case through the [Evanston Public Library](https://epl.org)"
   ]
  },
  {
   "cell_type": "markdown",
   "metadata": {},
   "source": [
    "---\n",
    "## [Episode 1: What Is Programming? Why Python?](https://epl.kanopy.com/video/what-programming-why-python)\n",
    "\n",
    "Most of this is review to me, therefor not going to be commented upon or noted.\n",
    "\n",
    "Recommended reading: The Art of Computer Programming, by Donald E. Knuth\n",
    "\n",
    "[TAOCP site](https://www-cs-faculty.stanford.edu/~knuth/taocp.html)"
   ]
  },
  {
   "cell_type": "code",
   "execution_count": 1,
   "metadata": {},
   "outputs": [
    {
     "name": "stdout",
     "output_type": "stream",
     "text": [
      "Hello, World!\n"
     ]
    }
   ],
   "source": [
    "# Obligatory\n",
    "\n",
    "print('Hello, World!')"
   ]
  },
  {
   "cell_type": "markdown",
   "metadata": {},
   "source": [
    "---\n",
    "## [Episode 2: Variables: Operations and Input/Output](https://epl.kanopy.com/video/variables-operations-and-inputoutput)"
   ]
  },
  {
   "cell_type": "markdown",
   "metadata": {},
   "source": [
    "CPU is dumb, just does math\n",
    "Memory:\n",
    "- Registers -- memory in CPU (short term, devs usually don't bother with this)\n",
    "- Cache -- memory in the same integrated circuit as the CPU (short term, devs usually don't bother with this)\n",
    "- Main Memory -- aka 'Primary Memory' aka 'RAM'; most devs are concerned with this part; this is where programs are loaded\n",
    "- Secondary Memory -- aka 'storage', non-volitile memory (e.g., flash drives, ssds, hdds)\n",
    "- Offline Memory -- remote storage\n",
    "\n",
    "### Main Memory\n",
    "\n",
    "Think of regions of memory as a series of individual boxes, and the boxes can store information in *variables*. \n",
    "\n",
    "Variable names are on the left side of an assignment.\n",
    "The equals sign is an *assignment operator*. Anything on the right of the assignment operator is assigned to the thing on the left of the assignment operator.\n",
    "\n",
    "Variables can be *floats*, *integers*, *strings* in most languages. Strings need to be enclosed in quotes. `''` or `\"\"` or sometimes backtics ``` `` ```.\n",
    "\n",
    "### The CPU (via Operators)\n",
    "\n",
    "The CPU does its calculations by using *operators* -- `+`, `-`, `/`, `%`, `*`, etc.\n",
    "\n",
    "Strings can also use `+` to concatonate multiple strings. The other operators don't work though with an exception of the `*` operator, which will repeat strings the number of times defined by an integer, ex: \n",
    "```\n",
    "hi = 'Hi '\n",
    "repeat = hi * 3\n",
    "print(repeat)\n",
    "# prints 'Hi Hi Hi'\n",
    "```"
   ]
  },
  {
   "cell_type": "code",
   "execution_count": 2,
   "metadata": {},
   "outputs": [
    {
     "name": "stdout",
     "output_type": "stream",
     "text": [
      "182\n"
     ]
    }
   ],
   "source": [
    "number_of_weeks = 26\n",
    "number_of_days = number_of_weeks * 7\n",
    "\n",
    "print(number_of_days)"
   ]
  },
  {
   "cell_type": "markdown",
   "metadata": {},
   "source": [
    "#### Other Operators\n",
    "\n",
    "- `+=` is \"increases by\"\n",
    "- `-=` is \"decreases by\"\n",
    "- `*=` is \"multiply by\"\n",
    "- `/=` is \"divide by\""
   ]
  },
  {
   "cell_type": "code",
   "execution_count": 3,
   "metadata": {},
   "outputs": [
    {
     "name": "stdout",
     "output_type": "stream",
     "text": [
      "980.0\n"
     ]
    }
   ],
   "source": [
    "balance = 1000.00\n",
    "withdrawl_amount = 20.00\n",
    "balance -= withdrawl_amount # read in English as \"balance decreases by withdrawl_amount\"\n",
    "print(balance)"
   ]
  },
  {
   "cell_type": "markdown",
   "metadata": {},
   "source": [
    "### Input and Output (I/O)\n",
    "\n",
    "I/O can be hardware like screens, software like files. Speakers, motors, lights, \n",
    "\n",
    "In Python, a print statement that has variables separated by commas will use the commas to add a space in its output."
   ]
  },
  {
   "cell_type": "code",
   "execution_count": 4,
   "metadata": {},
   "outputs": [
    {
     "name": "stdout",
     "output_type": "stream",
     "text": [
      "First word, second\n"
     ]
    }
   ],
   "source": [
    "x = 'First word,' # note no space after comma\n",
    "y = 'second' # note no space around the word\n",
    "print(x, y)"
   ]
  },
  {
   "cell_type": "markdown",
   "metadata": {},
   "source": [
    "#### The input() Function\n",
    "\n",
    "Used on the right side of an assignment operator to get input from a user. **Input data will always be read in as a string.** To change them you have to cast them using `int(input())` or `float(input())`. "
   ]
  },
  {
   "cell_type": "code",
   "execution_count": 5,
   "metadata": {},
   "outputs": [
    {
     "name": "stdout",
     "output_type": "stream",
     "text": [
      "3.14159 <class 'str'>\n",
      "3.14159 <class 'float'>\n",
      "3\n",
      "3\n"
     ]
    }
   ],
   "source": [
    "# Example: user inputs '3.14159'\n",
    "\n",
    "a = '3.14159'\n",
    "b = float(a)\n",
    "c = int(b)\n",
    "d = round(b)\n",
    "print(a, type(a))\n",
    "print(b, type(b))\n",
    "print(c)\n",
    "print(d)"
   ]
  },
  {
   "cell_type": "code",
   "execution_count": 8,
   "metadata": {},
   "outputs": [
    {
     "name": "stdout",
     "output_type": "stream",
     "text": [
      "What is your name? Bobbo\n",
      "Hello, Bobbo\n"
     ]
    }
   ],
   "source": [
    "name = input('What is your name? ')\n",
    "print('Hello,', name)"
   ]
  },
  {
   "cell_type": "code",
   "execution_count": 9,
   "metadata": {},
   "outputs": [
    {
     "name": "stdout",
     "output_type": "stream",
     "text": [
      "What is the radius? 3\n",
      "The area of your circle is 28.27431.\n"
     ]
    }
   ],
   "source": [
    "# Exercise: get the area of a circle based on user input radii\n",
    "radius = input('What is the radius? ')\n",
    "r = float(radius)\n",
    "pi = 3.14159\n",
    "circle_area = pi * (r**2)\n",
    "print(f'The area of your circle is {circle_area}.')"
   ]
  },
  {
   "cell_type": "markdown",
   "metadata": {},
   "source": [
    "---\n",
    "## [Episode 3: Conditionals and Boolean Expressions](https://epl.kanopy.com/video/conditionals-and-boolean-expressions)"
   ]
  },
  {
   "cell_type": "markdown",
   "metadata": {},
   "source": [
    "### IF\n",
    "\n",
    "In Python, a constant variable is usually capitalized, hence `True` and `False` instead of 'true' and 'false'."
   ]
  },
  {
   "cell_type": "code",
   "execution_count": 10,
   "metadata": {},
   "outputs": [
    {
     "name": "stdout",
     "output_type": "stream",
     "text": [
      "Dangerously High Cholestorol Warning!\n"
     ]
    }
   ],
   "source": [
    "ham = True\n",
    "jam = True\n",
    "# ham = False\n",
    "# if ham == True and jam == True:\n",
    "if ham and jam:\n",
    "    print('Dangerously High Cholestorol Warning!')\n",
    "else:\n",
    "    print('Nah, you\\'re good.')"
   ]
  },
  {
   "cell_type": "code",
   "execution_count": 11,
   "metadata": {},
   "outputs": [
    {
     "name": "stdout",
     "output_type": "stream",
     "text": [
      "5\n"
     ]
    }
   ],
   "source": [
    "# Craps conditionals\n",
    "# 2, 3, 12 are losing rolls\n",
    "# 7, 11 winning roles\n",
    "# Any other number is called the point and the game continues\n",
    "\n",
    "# This is a different solution to the issue than the video suggests\n",
    "\n",
    "import random\n",
    "\n",
    "die1 = random.randint(1, 7) # six sided die\n",
    "die2 = random.randint(1, 7) # six sided die\n",
    "combo = die1 + die2\n",
    "\n",
    "if combo == 2 or combo == 3 or combo == 12:\n",
    "    print(f'{combo}! You lose!')\n",
    "elif combo == 7 or combo == 11:\n",
    "    print(f'{combo}! Winner!')\n",
    "else:\n",
    "    print(combo)"
   ]
  },
  {
   "cell_type": "markdown",
   "metadata": {},
   "source": [
    "---\n",
    "## [Episode 4: Basic Program Development and Testing](https://epl.kanopy.com/video/basic-program-development-and-testing)"
   ]
  },
  {
   "cell_type": "markdown",
   "metadata": {},
   "source": [
    "The forest through the trees. How to see the complete software through the small bits.\n",
    "\n",
    "### Software Engineering\n",
    "#### Principles of Practical Programming\n",
    "1. Plan ahead\n",
    "2. Keep on testing\n",
    "3. Develop iteratively (\"pyramid-style\")\n",
    "\n",
    "It can be very tempting to just get in and write code. That can end up being very tricky, leading to errors, and get one lost in the details. \n",
    "\n",
    "To build a house you start with blueprints, not wood and nails.\n",
    "\n",
    "#### Savings Program\n",
    "Blueprint: What does the savings program need?\n",
    "***\n",
    "1. Get information from the user (input)\n",
    "2. Division to calculate the number of payments (calculation)\n",
    "3. Present the results to the user (output)\n",
    "\n",
    "Professionals will spend days, weeks, months, planning how software will work before they code it.\n",
    "There are multiple working methodologies to plan code.\n",
    "\n",
    "Writing comments is a good practice, and will help in the case of this savings program."
   ]
  },
  {
   "cell_type": "code",
   "execution_count": 12,
   "metadata": {},
   "outputs": [
    {
     "name": "stdout",
     "output_type": "stream",
     "text": [
      "What amount do you want to save? 100\n",
      "How much will you save each month? 12\n",
      "100.0\n",
      "12.0\n"
     ]
    }
   ],
   "source": [
    "# Get information from the user\n",
    "balance = float(input('What amount do you want to save? '))\n",
    "payment = float(input('How much will you save each month? '))\n",
    "\n",
    "# Testing for the above logical section: does the code receive input?\n",
    "print(balance)\n",
    "print(payment)"
   ]
  },
  {
   "cell_type": "markdown",
   "metadata": {},
   "source": [
    "##### Regular Testing\n",
    "\n",
    "**Everyone has bugs**. Everyone. The only way to find them is to run tests.\n",
    "\n",
    "Thorough testing should happen during coding. Some say line-by-line is the way to go. Realistically, that's difficult.\n",
    "\n",
    "Test each logical section of code."
   ]
  },
  {
   "cell_type": "code",
   "execution_count": 13,
   "metadata": {},
   "outputs": [],
   "source": [
    "# Calculate the number of payments needed\n",
    "num_remaining_payments = balance / payment"
   ]
  },
  {
   "cell_type": "code",
   "execution_count": 14,
   "metadata": {},
   "outputs": [
    {
     "name": "stdout",
     "output_type": "stream",
     "text": [
      "It will take 8.333333333333334 month(s) to save for your item.\n"
     ]
    }
   ],
   "source": [
    "# Present the results to the user\n",
    "# This print statement serves as the test for the above logical section of code\n",
    "print(f'It will take {num_remaining_payments} month(s) to save for your item.')"
   ]
  },
  {
   "cell_type": "markdown",
   "metadata": {},
   "source": [
    "All this works for the numbers we want to feed in, but now we need to test other parameters.\n",
    "\n",
    "- What happens when someone enters 0? You cannot divide by 0.\n",
    "- What happens for negative numbers?\n",
    "- What happens when someone enters a letter?\n",
    "- What about negative payments\n",
    "\n",
    "Conditionals should be added.\n",
    "```\n",
    "if (payment == 0):\n",
    "    payment = float(input('Nope, zero doesn\\'t count. Try again: ')\n",
    "```"
   ]
  },
  {
   "cell_type": "markdown",
   "metadata": {},
   "source": [
    "#### Iterative Development\n",
    "\n",
    "The instructor likes to relate software development to two different architectural features: pyramids and arches.\n",
    "\n",
    "##### Pyramids\n",
    "Software development is like a pyramid when the logical base is solidified through loads and loads of testing, then features are built on a solid base. Even if construction stops without reaching the point, it's still solid architecturally.\n",
    "\n",
    "##### Arches\n",
    "An arch is dependent on each individual brick for its structure to be solid. If one brick is out of place, the structure fails and takes all the other bricks with it."
   ]
  },
  {
   "cell_type": "markdown",
   "metadata": {},
   "source": [
    "---\n",
    "## [Episode 5: Loops and Iterations](https://epl.kanopy.com/video/loops-and-iterations)"
   ]
  },
  {
   "cell_type": "markdown",
   "metadata": {},
   "source": [
    "### While Loops\n",
    "\n",
    "This instructor says \"while\" like he's on Family Guy. Anyway:\n",
    "```\n",
    "while condition is True:\n",
    "    do the thing, execute the code\n",
    "```\n",
    "\n",
    "The condition is checked at the end of the body of the `while` loop.\n",
    "\n",
    "`while` loops are good for when it is unclear how many times you will need to go through a loop."
   ]
  },
  {
   "cell_type": "code",
   "execution_count": 16,
   "metadata": {},
   "outputs": [
    {
     "name": "stdout",
     "output_type": "stream",
     "text": [
      "Enter a number: -4\n",
      "Enter a positive value: -3\n",
      "Enter a positive value: -2\n",
      "Enter a positive value: -1\n",
      "Enter a positive value: 5\n"
     ]
    }
   ],
   "source": [
    "value = int(input('Enter a number: '))\n",
    "while value <= 0:\n",
    "    value = int(input('Enter a positive value: '))"
   ]
  },
  {
   "cell_type": "markdown",
   "metadata": {},
   "source": [
    "#### Infinite Loops\n",
    "\n",
    "They are more common than we would all like. Stopping the program:\n",
    "\n",
    "- Look for a stop button in the IDE\n",
    "- Close the IDE\n",
    "- CTRL + C for Windows/Linux\n",
    "- CTRL + CMD + C for Mac"
   ]
  },
  {
   "cell_type": "code",
   "execution_count": 17,
   "metadata": {},
   "outputs": [
    {
     "name": "stdout",
     "output_type": "stream",
     "text": [
      "How many people are there? 4\n",
      "Enter the age of person 1: 10\n",
      "Enter the age of person 2: 20\n",
      "Enter the age of person 3: 30\n",
      "Enter the age of person 4: 40\n",
      "The average age was 25.0\n"
     ]
    }
   ],
   "source": [
    "num_people = int(input('How many people are there? '))\n",
    "i = 0 # counter for the number of people in the group; i used to count through integers (iterating)\n",
    "total_age = 0.0 # initialized value of the total age\n",
    "\n",
    "while i < num_people:\n",
    "    age = float(input(f'Enter the age of person {str(i + 1)}: '))\n",
    "    total_age = total_age + age\n",
    "    i = i + 1\n",
    "average_age = total_age / num_people\n",
    "print(f'The average age was {average_age}')"
   ]
  },
  {
   "cell_type": "markdown",
   "metadata": {},
   "source": [
    "### For Loops\n",
    "\n",
    "Useful for well-defined set of items or clear number of times to run through the loop.\n",
    "\n",
    "Using `range()` is quite useful in for loops. Arguments in `range()`:\n",
    "\n",
    "- one value: start at 0, increment by 1, do not exceed value in parentheses\n",
    "- two values: increment by 1 starting at the first value, not exceeding the second value\n",
    "- three values: start at first value, not exceeding the second value, increment amount by the third value"
   ]
  },
  {
   "cell_type": "code",
   "execution_count": 19,
   "metadata": {},
   "outputs": [
    {
     "name": "stdout",
     "output_type": "stream",
     "text": [
      "0\n",
      "3\n"
     ]
    }
   ],
   "source": [
    "for i in range(0, 6, 3):\n",
    "    print(i)"
   ]
  },
  {
   "cell_type": "code",
   "execution_count": 22,
   "metadata": {},
   "outputs": [
    {
     "name": "stdout",
     "output_type": "stream",
     "text": [
      "11\n",
      "10\n",
      "9\n",
      "8\n"
     ]
    }
   ],
   "source": [
    "for i in range(11, 7, -1):\n",
    "    print(i)"
   ]
  },
  {
   "cell_type": "markdown",
   "metadata": {},
   "source": [
    "### Nested Loops"
   ]
  },
  {
   "cell_type": "code",
   "execution_count": 27,
   "metadata": {},
   "outputs": [
    {
     "name": "stdout",
     "output_type": "stream",
     "text": [
      "0 x 0 = 0\n",
      "0 x 1 = 0\n",
      "0 x 2 = 0\n",
      "0 x 3 = 0\n",
      "0 x 4 = 0\n",
      "0 x 5 = 0\n",
      "0 x 6 = 0\n",
      "0 x 7 = 0\n",
      "0 x 8 = 0\n",
      "0 x 9 = 0\n",
      "1 x 0 = 0\n",
      "1 x 1 = 1\n",
      "1 x 2 = 2\n",
      "1 x 3 = 3\n",
      "1 x 4 = 4\n",
      "1 x 5 = 5\n",
      "1 x 6 = 6\n",
      "1 x 7 = 7\n",
      "1 x 8 = 8\n",
      "1 x 9 = 9\n",
      "2 x 0 = 0\n",
      "2 x 1 = 2\n",
      "2 x 2 = 4\n",
      "2 x 3 = 6\n",
      "2 x 4 = 8\n",
      "2 x 5 = 10\n",
      "2 x 6 = 12\n",
      "2 x 7 = 14\n",
      "2 x 8 = 16\n",
      "2 x 9 = 18\n",
      "3 x 0 = 0\n",
      "3 x 1 = 3\n",
      "3 x 2 = 6\n",
      "3 x 3 = 9\n",
      "3 x 4 = 12\n",
      "3 x 5 = 15\n",
      "3 x 6 = 18\n",
      "3 x 7 = 21\n",
      "3 x 8 = 24\n",
      "3 x 9 = 27\n",
      "4 x 0 = 0\n",
      "4 x 1 = 4\n",
      "4 x 2 = 8\n",
      "4 x 3 = 12\n",
      "4 x 4 = 16\n",
      "4 x 5 = 20\n",
      "4 x 6 = 24\n",
      "4 x 7 = 28\n",
      "4 x 8 = 32\n",
      "4 x 9 = 36\n",
      "5 x 0 = 0\n",
      "5 x 1 = 5\n",
      "5 x 2 = 10\n",
      "5 x 3 = 15\n",
      "5 x 4 = 20\n",
      "5 x 5 = 25\n",
      "5 x 6 = 30\n",
      "5 x 7 = 35\n",
      "5 x 8 = 40\n",
      "5 x 9 = 45\n",
      "6 x 0 = 0\n",
      "6 x 1 = 6\n",
      "6 x 2 = 12\n",
      "6 x 3 = 18\n",
      "6 x 4 = 24\n",
      "6 x 5 = 30\n",
      "6 x 6 = 36\n",
      "6 x 7 = 42\n",
      "6 x 8 = 48\n",
      "6 x 9 = 54\n",
      "7 x 0 = 0\n",
      "7 x 1 = 7\n",
      "7 x 2 = 14\n",
      "7 x 3 = 21\n",
      "7 x 4 = 28\n",
      "7 x 5 = 35\n",
      "7 x 6 = 42\n",
      "7 x 7 = 49\n",
      "7 x 8 = 56\n",
      "7 x 9 = 63\n",
      "8 x 0 = 0\n",
      "8 x 1 = 8\n",
      "8 x 2 = 16\n",
      "8 x 3 = 24\n",
      "8 x 4 = 32\n",
      "8 x 5 = 40\n",
      "8 x 6 = 48\n",
      "8 x 7 = 56\n",
      "8 x 8 = 64\n",
      "8 x 9 = 72\n",
      "9 x 0 = 0\n",
      "9 x 1 = 9\n",
      "9 x 2 = 18\n",
      "9 x 3 = 27\n",
      "9 x 4 = 36\n",
      "9 x 5 = 45\n",
      "9 x 6 = 54\n",
      "9 x 7 = 63\n",
      "9 x 8 = 72\n",
      "9 x 9 = 81\n"
     ]
    }
   ],
   "source": [
    "# multiplications table using a nested for loop\n",
    "\n",
    "# for an integer, i, in the range starting at 0 and stopping by 10\n",
    "for i in range(10):\n",
    "    # for an integer, j, in the range starting at 0 and stopping by 10\n",
    "    for j in range(10):\n",
    "        # print the value of i x the value of j = the product of i times j (' x ' and ' = ' are strings)\n",
    "        print(f'{i} x {j} = {i * j}')"
   ]
  },
  {
   "cell_type": "markdown",
   "metadata": {},
   "source": [
    "#### Optional Commands to Use in Loops\n",
    "\n",
    "##### Continue Statement\n",
    "\n",
    "`continue` will skip through an iteration of a loop if a condition has been met.\n",
    "\n",
    "The code below is fine, functionally, but has a lot of indentation and might be hard to read.\n",
    "\n",
    "```\n",
    "day_to_skip = 4\n",
    "hours_worked = 0\n",
    "target_hours = 10\n",
    "day = 0\n",
    "while hours_worked < target_hours:\n",
    "    day += 1\n",
    "    target_hours += 8\n",
    "    if day_to_skip != 0:\n",
    "        if day < 10:\n",
    "            hours_worked += 6\n",
    "        elif day < 15:\n",
    "            hours_worked += 8\n",
    "        else:\n",
    "            hours_worked += 14\n",
    "```\n",
    "\n",
    "Rather, use the continue statement to skip to the next iteration if a condition is met.\n",
    "\n",
    "```\n",
    "day_to_skip = 4\n",
    "hours_worked = 0\n",
    "target_hours = 10\n",
    "day = 0\n",
    "while hours_worked < target_hours:\n",
    "    day += 1\n",
    "    target_hours += 8\n",
    "    if day_to_skip == 0:\n",
    "        continue\n",
    "    if day < 10:\n",
    "        hours_worked += 6\n",
    "    elif day < 15:\n",
    "        hours_worked += 8\n",
    "    else:\n",
    "        hours_worked += 14\n",
    "```\n",
    "\n",
    "`continue` skips everything else in the body of the code after it and goes back to the beginning of the loop.\n",
    "\n",
    "##### Break Command\n",
    "\n",
    "`break` will act like `continue`, but where `continue` will skip the code and move to the next iteration, `break` will exit the loop entirely and jump to the code after (or if the break is in a nested loop it will break out of the nested loop and into the parent loop).\n",
    "\n",
    "```\n",
    "bad_number = 7\n",
    "for i in range(1, 10, 2):\n",
    "    if i == bad_number:\n",
    "        print('Whoops! We didn\\'t want that number!')\n",
    "        break\n",
    "    print(i)\n",
    "else:\n",
    "    print('We got through all numbers')\n",
    "```"
   ]
  },
  {
   "cell_type": "code",
   "execution_count": 32,
   "metadata": {},
   "outputs": [
    {
     "name": "stdout",
     "output_type": "stream",
     "text": [
      "Enter a number: 6\n",
      "You entered 6\n",
      "3.0\n",
      "10.0\n",
      "5.0\n",
      "16.0\n",
      "8.0\n",
      "4.0\n",
      "2.0\n",
      "1.0\n",
      "We reached 1 in 8 steps\n"
     ]
    }
   ],
   "source": [
    "# The Collatz Conjecture (3N + 1)\n",
    "user_num = int(input('Enter a number: '))\n",
    "print(f'You entered {user_num}')\n",
    "\n",
    "counter = 0\n",
    "while user_num != 1:\n",
    "    counter += 1 \n",
    "    if user_num % 2 == 0:\n",
    "        user_num = user_num / 2\n",
    "    else: \n",
    "        user_num = 3 * user_num + 1\n",
    "    print(user_num)\n",
    "        \n",
    "print(f'We reached 1 in {counter} steps')"
   ]
  },
  {
   "cell_type": "markdown",
   "metadata": {},
   "source": [
    "---\n",
    "## [Episode 6: Files and Strings](https://epl.kanopy.com/video/files-and-strings)"
   ]
  },
  {
   "cell_type": "markdown",
   "metadata": {},
   "source": [
    "History lesson: Files used to be actual files of paper punch cards—the ultimate in offline memory. The computer would just be used to execute punch card instructions. Now the computer still does that, but with digital files in *secondary memory* and in *offline memory* as discussed in [Episode 2](https://epl.kanopy.com/video/variables-operations-and-inputoutput). To be used the files need to be brought into *main memory*.\n",
    "\n",
    "Files are closely tied with strings because:\n",
    "\n",
    "- The file format is one long string\n",
    "- File locations are strings\n",
    "\n",
    "Working with data files includes:\n",
    "\n",
    "1. Making a connection with the file (i.e., opening the file)\n",
    "2. Peform operations (read/write)\n",
    "3. Break the connection with the file (i.e., closing the file)\n",
    "\n",
    "Use `open()` to open (i.e., create a connection with) a file:<br>\n",
    "`file = open('Filename', 'r')`<br>\n",
    "The variable name should matter to the program. In `open()` the first argument is the the file name as a string. The second string is how the file will be used.<br>\n",
    "- \"r\" = read, the file will be giving input\n",
    "- \"w\" = write, the file will be written to, given output\n",
    "- \"a\" = append, the file will be written to, but not from scratch; the write is added to the end of a file\n",
    "\n",
    "Trying to read a file that doesn't exist will give an error. To write or append a file that doesn't exist will mean that the file will be generated. Writing to a file that does exist will **write over the old version**."
   ]
  },
  {
   "cell_type": "markdown",
   "metadata": {},
   "source": [
    "```\n",
    "# Reading/Writing Program\n",
    "# Read input from a file MyDataFile.txt\n",
    "# Write output to a file results.txt\n",
    "\n",
    "my_data = open('MyDataFile.txt', 'r')\n",
    "results = open('results.txt', 'w')\n",
    "```"
   ]
  },
  {
   "cell_type": "markdown",
   "metadata": {},
   "source": [
    "Closing a file (i.e., breaking a connection) will use a function `close()`. Use the internal variable name with `close()`.<br>\n",
    "`my_data.close()`\n",
    "\n",
    "Unless you are using a *context manager* (see the description of `with` below) files must be explicitly closed using `.close()`. Variables used within `open()` and `close()` are locally scoped. "
   ]
  },
  {
   "cell_type": "markdown",
   "metadata": {},
   "source": [
    "When working with a file there are different ways to open, work with, and close a file. These two snippets of code are functionally the same.<br>\n",
    "```\n",
    "# Option 1\n",
    "myfile = open('Filename', 'w')\n",
    "# Write logic to do something\n",
    "myfile.close()\n",
    "\n",
    "# Option 2\n",
    "with open('Filename', 'w') as myfile:\n",
    "    #Write logic to do something\n",
    "```\n",
    "Using `with` in Option 2 will allow you to use indented code following the assignment of the variable name, in this case `as myfile:`. The file will automatically close after the indented code. Either way is fine, but the second takes care of closing for you. \n",
    "\n",
    "`with` is what is known as a *context manager*."
   ]
  },
  {
   "cell_type": "markdown",
   "metadata": {},
   "source": [
    "### The `write()` Command\n",
    "The `write()` command is appended to the file variable in the program. \n",
    "```\n",
    "myfile = open('Filename', 'w')\n",
    "myfile.write('Write this to the file.')\n",
    "myfile.close()\n",
    "```\n",
    "For `write()`:\n",
    "- Can only write strings\n",
    "- Can only write one string at a time (no strings separated by commas like in print statements)\n",
    "- New lines are not included unless explicitly used in the string (\\n)"
   ]
  },
  {
   "cell_type": "markdown",
   "metadata": {},
   "source": [
    "```\n",
    "# Assume the variables 'volume1' and 'volume2' have been computed\n",
    "with open('results.txt', 'w') as outfile:\n",
    "    outfile.write(f'The first volume is {str(volume1)}\\n')\n",
    "    outfile.write(f'The second volume is {str(volume2)}\\n')\n",
    "```"
   ]
  },
  {
   "cell_type": "markdown",
   "metadata": {},
   "source": [
    "### Reading From Files\n",
    "\n",
    "Read individual lines from a text file with the `readline()` command. Repeating the `readline()` command will result in subsequent lines being read from the file into main memory. Passing in a number will result in the number of characters being read in. \n",
    "\n",
    "Read all lines with `readlines()` command.\n",
    "\n",
    "Read the whole file as one string with the `read()` command. Passing in an integer will indicate that `read()` should read into main memory the number of characters."
   ]
  },
  {
   "cell_type": "code",
   "execution_count": 96,
   "metadata": {},
   "outputs": [
    {
     "name": "stdout",
     "output_type": "stream",
     "text": [
      "Thoughts\n",
      "by Myra Vio\n",
      "Thoughts\n",
      "\n",
      "['la Wilds\\n', '\\n', 'What kind of thoughts now, do you carry\\n', '\\tIn your travels day by day\\n', 'Are they bright and lofty visions, \\n', '\\tOr neglected, gone astray?\\n', '\\n', 'Matters not how great in fancy, \\n', '\\tOr what deeds of skill youâ€™ve wrought; \\n', 'Man, though high may be his station, \\n', '\\tIs no better than his thoughts. \\n', '\\n', 'Catch your thoughts and hold them tightly, \\n', '\\tLet each one an honor be; \\n', 'Purge them, scourge them, burnish brightly, \\n', '\\tThen in love set each one free.']\n"
     ]
    }
   ],
   "source": [
    "with open('thoughts_poem.txt', 'r') as myra:\n",
    "    line1 = myra.readline()\n",
    "    line2 = myra.readline(11) # read the first 11 chars of the next line\n",
    "#     myra.seek(0) # This will serve to set the next reading command to the first char\n",
    "    poem = myra.readlines()\n",
    "    print(line1, end = '') # defining the end as an empty string will bypass \\n inherent in print()\n",
    "#     print(f'{line1}{line2}{poem}') \n",
    "    print(line2) # remember, print() will automatically add an \\n (see output)\n",
    "    print(line1)\n",
    "    print(poem)\n",
    "\n",
    "# This will create a new writeable file named 'wilds.txt'\n",
    "with open('wilds.txt', 'w') as myra_wiles:\n",
    "    myra_wiles.write(line1)\n",
    "    myra_wiles.write(line2)"
   ]
  },
  {
   "cell_type": "markdown",
   "metadata": {},
   "source": [
    "A few interesting things to note here. After the file is read into memory:<br>\n",
    "1. the first `readline()` pulls the first line of the text file; what has been contained in that variable is now not available unless that variable is used\n",
    "2. the variable `line2` here has a selection of 11 chars and for some reason a `print()` will not add the `\\n` char; the following code will generate no new line between them\n",
    "```\n",
    "print(line2)\n",
    "print(poem)\n",
    "```\n",
    "Output:\n",
    "```\n",
    "by Myra Vio\n",
    "['la Wilds\\n', '\\n', 'What kind of thoughts now, do you carry\\n', '\\tIn your travels day by day\\n', 'Are they bright and lofty visions, \\n', '\\tOr neglected, gone astray?\\n', '\\n', 'Matters not how great in fancy, \\n', '\\tOr what deeds of skill youâ€™ve wrought; \\n', 'Man, though high may be his station, \\n', '\\tIs no better than his thoughts. \\n', '\\n', 'Catch your thoughts and hold them tightly, \\n', '\\tLet each one an honor be; \\n', 'Purge them, scourge them, burnish brightly, \\n', '\\tThen in love set each one free.']\n",
    "```\n",
    "Note the first 11 char contained in `line2` are not included in the `poem` variable."
   ]
  },
  {
   "cell_type": "markdown",
   "metadata": {},
   "source": [
    "#### Strings from Directories\n",
    "**Directory Paths** are strings. Directory paths will vary from OS to OS. In Windows, paths have back slashes `\\`. In Mac and Linux, paths use a forward slash `/`. Because Python and other languages utilize the back slash as an escape character, often in Windows versions of programs there are two `\\\\` in paths.\n",
    "\n",
    "An example of how the two would look different in Python:\n",
    "```\n",
    "# Mac OSX\n",
    "infile = open('data/data.txt', 'r')\n",
    "\n",
    "# Windows \n",
    "infile = open('data\\\\data.txt', 'r')\n",
    "```\n",
    "\n",
    "##### Escape Characters\n",
    "`\\'` = single quote<br>\n",
    "`\\\"` = double quote<br>\n",
    "`\\n` = newline<br>\n",
    "`\\t` = tab<br>\n",
    "`\\\\` = back slash<br>\n",
    "\n",
    "#### Multi-line Strings\n",
    "Using three single- or double-quotes in a row will indicate that anything following until the closing single- or double-quotes will be enclosed in a comment. This is most used for multi-line comments. The most common comments in Python follow `#`. To make a multi line comment `'''` or `\"\"\"` is used to open and close the comment."
   ]
  },
  {
   "cell_type": "code",
   "execution_count": 68,
   "metadata": {},
   "outputs": [
    {
     "name": "stdout",
     "output_type": "stream",
     "text": [
      "thoughts_poem.txt\n",
      "r\n",
      "Thoughts\n",
      "by Myra Viola Wilds\n",
      "\n",
      "What kind of thoughts now, do you carry\n",
      "\tIn your travels day by day\n",
      "Are they bright and lofty visions, \n",
      "\tOr neglected, gone astray?\n",
      "\n",
      "Matters not how great in fancy, \n",
      "\tOr what deeds of skill youâ€™ve wrought; \n",
      "Man, though high may be his station, \n",
      "\tIs no better than his thoughts. \n",
      "\n",
      "Catch your thoughts and hold them tightly, \n",
      "\tLet each one an honor be; \n",
      "Purge them, scourge them, burnish brightly, \n",
      "\tThen in love set each one free.\n"
     ]
    }
   ],
   "source": [
    "'''\n",
    "The first code and second code are the same, functionally. \n",
    "Using the first code would have an increased chance of throwing an error, \n",
    "as it requires the .close() command.\n",
    "Comment highlighting code and using `CTRL + /` or `CMD + /`\n",
    "to activate or deactivate comments\n",
    "'''\n",
    "\n",
    "# poet = open('thoughts_poem.txt', 'r')\n",
    "# print(poet.name)\n",
    "# print(poet.mode)\n",
    "# poet_contents = poet.read()\n",
    "# print(poet_contents)\n",
    "# poet.close()\n",
    "\n",
    "with open('thoughts_poem.txt', 'r') as poet:\n",
    "    print(poet.name)\n",
    "    print(poet.mode)\n",
    "    poet_contents = poet.read()\n",
    "    print(poet_contents)"
   ]
  },
  {
   "cell_type": "markdown",
   "metadata": {},
   "source": [
    "#### Iterating Over Lines in a File\n",
    "If a large file has to be opened there are some risks:<br>\n",
    "- `read()` can eat up too much main memory\n",
    "- you wouldn't want to type thousands of `readline()` statements\n",
    "\n",
    "Use a `for` loop to iterate over lines."
   ]
  },
  {
   "cell_type": "code",
   "execution_count": 69,
   "metadata": {},
   "outputs": [
    {
     "name": "stdout",
     "output_type": "stream",
     "text": [
      "Thoughts\n",
      "by Myra Viola Wilds\n",
      "\n",
      "What kind of thoughts now, do you carry\n",
      "\tIn your travels day by day\n",
      "Are they bright and lofty visions, \n",
      "\tOr neglected, gone astray?\n",
      "\n",
      "Matters not how great in fancy, \n",
      "\tOr what deeds of skill youâ€™ve wrought; \n",
      "Man, though high may be his station, \n",
      "\tIs no better than his thoughts. \n",
      "\n",
      "Catch your thoughts and hold them tightly, \n",
      "\tLet each one an honor be; \n",
      "Purge them, scourge them, burnish brightly, \n",
      "\tThen in love set each one free."
     ]
    }
   ],
   "source": [
    "# This will iterate over each line and thus main memory will only have one line at a time \n",
    "with open('thoughts_poem.txt', 'r') as file:\n",
    "    \n",
    "    for line in file:\n",
    "        print(line, end = '')"
   ]
  },
  {
   "cell_type": "markdown",
   "metadata": {},
   "source": [
    "### Working with Multiple Files\n",
    "The following descriptions and examples were garnered from Corey Schafer's, [Python Tutorial: File Objects - Reading and Writing to Files](https://youtu.be/Uh2ebFW8OYM)"
   ]
  },
  {
   "cell_type": "code",
   "execution_count": 61,
   "metadata": {},
   "outputs": [],
   "source": [
    "# open test.txt as variable 'rf' (named for 'readfile' in this case) as readable\n",
    "# open (or create if it doesn't exist) a file 'test_copy.txt' as variable 'wf' (named for 'writefile' in this case) as writable\n",
    "\n",
    "with open('test_texts/test.txt', 'r') as rf:\n",
    "    with open('test_texts/test_copy.txt', 'w') as wf:\n",
    "        for line in rf: # for each line in the original file\n",
    "            wf.write(line) # write a line in our new file "
   ]
  },
  {
   "cell_type": "markdown",
   "metadata": {},
   "source": [
    "#### Binary Files\n",
    "If we wanted to work with an image file or a word processor file (i.e., not a .txt file) we would amend the `open()` statements to be `'rb'` and/or `'wb'` (or `'ab'` for append functionality). The 'b' notes that we are working with a *binary* file. "
   ]
  },
  {
   "cell_type": "code",
   "execution_count": 64,
   "metadata": {},
   "outputs": [],
   "source": [
    "with open('test_texts/test_img.jpg', 'rb') as rf:\n",
    "    with open('test_texts/test_img_copy.jpg', 'wb') as wf:\n",
    "        for line in rf:\n",
    "            wf.write(line)"
   ]
  },
  {
   "cell_type": "markdown",
   "metadata": {},
   "source": [
    "If we're working with a huge file and memory is an issue, or you want finer control over how the file is copied, we'd work with chunks of a binary file using a loop. Example below uses a dev-defined chunk of data."
   ]
  },
  {
   "cell_type": "code",
   "execution_count": 65,
   "metadata": {},
   "outputs": [],
   "source": [
    "with open('test_texts/test_img.jpg', 'rb') as rf:\n",
    "    with open('test_texts/test_img_copy_2.jpg', 'wb') as wf:\n",
    "        chunk_size = 4096\n",
    "        rf_chunk = rf.read(chunk_size)\n",
    "        '''\n",
    "        While the chunk defined above is greater than zero\n",
    "        we will write the chunk to the copy file.\n",
    "        To avoid an infinite loop we read in the next chunk\n",
    "        '''\n",
    "        while len(rf_chunk) > 0:\n",
    "            wf.write(rf_chunk)\n",
    "            rf_chunk = rf.read(chunk_size)"
   ]
  },
  {
   "cell_type": "markdown",
   "metadata": {},
   "source": [
    "---\n",
    "## [Episode 7: Operations with Lists](https://epl.kanopy.com/video/operations-lists)\n",
    "\n",
    "Python is apparently very good with lists when compared to other languages.\n",
    "\n",
    "*List* and *array* are generally synonymous...generally. \n",
    "\n",
    "### Lists\n",
    "```\n",
    "variable_name = [1, 2, 3, 4, 5, 4, 3, 2, 1]\n",
    "```\n",
    "Each item in a list has an *index* number, and for every list (in most programming languages) **the first index number is 0**. In memory, a list is stored by the location of the first element, which is offset by zero. The second element is stored in memory in a location that is offset by 1, and so on.\n",
    "\n",
    "Elements in a list are accessed by using `[]` with the index number after the variable name.<br>\n",
    "```\n",
    "print(variable_name[4])\n",
    "5\n",
    "```"
   ]
  },
  {
   "cell_type": "code",
   "execution_count": 98,
   "metadata": {},
   "outputs": [
    {
     "name": "stdout",
     "output_type": "stream",
     "text": [
      "January has 31 days\n"
     ]
    }
   ],
   "source": [
    "# How many days are in January?\n",
    "days_in_month = [31, 28, 31, 30, 31, 30, 31, 31, 30, 31, 30, 31]\n",
    "print(f'January has {days_in_month[0]} days')"
   ]
  },
  {
   "cell_type": "code",
   "execution_count": 122,
   "metadata": {},
   "outputs": [
    {
     "name": "stdout",
     "output_type": "stream",
     "text": [
      "29\n"
     ]
    }
   ],
   "source": [
    "# How do we determine if February has 28 or 29 days?\n",
    "year = 2020\n",
    "\n",
    "if year % 4 == 0:\n",
    "    days_in_month[1] = 29\n",
    "# else:\n",
    "#     days_in_month[1] = 28\n",
    "    \n",
    "print(days_in_month[1])"
   ]
  },
  {
   "cell_type": "code",
   "execution_count": 123,
   "metadata": {},
   "outputs": [
    {
     "name": "stdout",
     "output_type": "stream",
     "text": [
      "83\n",
      "80\n",
      "73\n",
      "75\n",
      "79\n",
      "83\n",
      "86\n",
      "\n",
      "\n",
      "83\n",
      "80\n",
      "73\n",
      "75\n",
      "79\n",
      "83\n",
      "86\n",
      "\n",
      "\n",
      "83\n",
      "80\n",
      "73\n",
      "75\n",
      "79\n",
      "83\n",
      "86\n"
     ]
    }
   ],
   "source": [
    "# print each element in the list\n",
    "daily_high_temps = [83, 80, 73, 75, 79, 83, 86]\n",
    "\n",
    "for i in range(7):\n",
    "    print(daily_high_temps[i])\n",
    "print('\\n')\n",
    "\n",
    "for i in range(len(daily_high_temps)):\n",
    "    print(daily_high_temps[i])\n",
    "print('\\n')\n",
    "\n",
    "# This is the most elegant, but most abstract way when compared to the above methods of looping through the list\n",
    "for i in daily_high_temps:\n",
    "    print(i)"
   ]
  },
  {
   "cell_type": "code",
   "execution_count": 134,
   "metadata": {},
   "outputs": [
    {
     "name": "stdout",
     "output_type": "stream",
     "text": [
      "This is a leap year\n",
      "31\n",
      "60\n",
      "91\n",
      "121\n",
      "152\n",
      "182\n",
      "213\n",
      "244\n",
      "274\n",
      "305\n",
      "335\n",
      "366\n",
      "There are 366 this year.\n"
     ]
    }
   ],
   "source": [
    "# Calculate days of the year given the above array days_in_month\n",
    "\n",
    "year = 3184\n",
    "num_days = 0\n",
    "\n",
    "if year % 4 == 0:\n",
    "    print(f'This is a leap year')\n",
    "    days_in_month[1] = 29\n",
    "else:\n",
    "    print(f'This is not a leap year')\n",
    "    days_in_month[1] = 28\n",
    "    \n",
    "for i in days_in_month:\n",
    "    num_days += i\n",
    "    print(num_days)\n",
    "\n",
    "# Python's better, cooler way is to use `sum()`\n",
    "num_days = sum(days_in_month)\n",
    "print(f'There are {num_days} this year.')"
   ]
  },
  {
   "cell_type": "markdown",
   "metadata": {},
   "source": [
    "#### Appending to Lists\n",
    "\n",
    "You can append lists by adding a list to a list, or you can use the `append()` method to add one item to the end of the list."
   ]
  },
  {
   "cell_type": "code",
   "execution_count": 138,
   "metadata": {},
   "outputs": [
    {
     "name": "stdout",
     "output_type": "stream",
     "text": [
      "[1.1, 2.2, 3.3, 56.3, 2.3, 4.5, 5.6]\n"
     ]
    }
   ],
   "source": [
    "list1 = [1.1, 2.2, 3.3, 56.3]\n",
    "list2 = [2.3, 4.5, 5.6]\n",
    "list3 = list1 + list2\n",
    "print(list3)"
   ]
  },
  {
   "cell_type": "code",
   "execution_count": 139,
   "metadata": {},
   "outputs": [
    {
     "name": "stdout",
     "output_type": "stream",
     "text": [
      "[1.1, 2.2, 3.3, 56.3, 2.3, 4.5, 5.6, 6.7]\n"
     ]
    }
   ],
   "source": [
    "list3.append(6.7)\n",
    "print(list3)"
   ]
  },
  {
   "cell_type": "code",
   "execution_count": 159,
   "metadata": {},
   "outputs": [
    {
     "name": "stdout",
     "output_type": "stream",
     "text": [
      "Enter the age of the person. Enter -1 when done25\n",
      "Enter the age of the person. Enter -1 when done27\n",
      "Enter the age of the person. Enter -1 when done29\n",
      "Enter the age of the person. Enter -1 when done33\n",
      "Enter the age of the person. Enter -1 when done77\n",
      "Enter the age of the person. Enter -1 when done44\n",
      "Enter the age of the person. Enter -1 when done32\n",
      "Enter the age of the person. Enter -1 when done-1\n",
      "[25, 27, 29, 33, 77, 44, 32]\n"
     ]
    }
   ],
   "source": [
    "# Appending user-entered information to a blank list\n",
    "ages = []\n",
    "age = int(input('Enter the age of the person. Enter -1 when done'))\n",
    "\n",
    "# we use a `while` loop because we do not know how many people will be in a group.\n",
    "while age != -1:\n",
    "    ages.append(age)\n",
    "    age = int(input('Enter the age of the person. Enter -1 when done'))\n",
    "\n",
    "print(ages)\n",
    "\n"
   ]
  },
  {
   "cell_type": "markdown",
   "metadata": {},
   "source": [
    "#### Indexing and Index Operations\n",
    "\n",
    "Indexing counts up from 0. It can also count down starting at -1. If you don't know the index of the last element of a list, use -1."
   ]
  },
  {
   "cell_type": "code",
   "execution_count": 160,
   "metadata": {},
   "outputs": [
    {
     "name": "stdout",
     "output_type": "stream",
     "text": [
      "32\n"
     ]
    }
   ],
   "source": [
    "print(ages[-1])"
   ]
  },
  {
   "cell_type": "markdown",
   "metadata": {},
   "source": [
    "##### Slicing\n",
    "\n",
    "You can take segments of lists by using a *slice*. The list is sliced by using a colon `:` in the square brackets `[]`. The number to the left of the colon is the starting point, the number on the right is where the slice stops (not including that index number). A slice without a number on either side will assume it means the end of the list, e.g., `[:4]` will slice from index 0 to 4, `[3:]` will slice index 3 through the last index of the list."
   ]
  },
  {
   "cell_type": "code",
   "execution_count": 161,
   "metadata": {},
   "outputs": [
    {
     "name": "stdout",
     "output_type": "stream",
     "text": [
      "[29, 33]\n"
     ]
    }
   ],
   "source": [
    "# Slice starts at index 2 and stops at index 4\n",
    "print(ages[2:4])"
   ]
  },
  {
   "cell_type": "code",
   "execution_count": 162,
   "metadata": {},
   "outputs": [
    {
     "name": "stdout",
     "output_type": "stream",
     "text": [
      "[33, 77, 44, 32]\n",
      "[25, 27, 29, 33]\n",
      "[25, 27, 29, 33, 77, 44, 32]\n",
      "[25, 27, 29, 33, 77, 44, 32]\n"
     ]
    }
   ],
   "source": [
    "print(ages[3:])\n",
    "print(ages[:-3])\n",
    "print(ages[:]) # entire list with slice; this makes a copy of a list if assigned to a variable\n",
    "print(ages) # entire list"
   ]
  },
  {
   "cell_type": "markdown",
   "metadata": {},
   "source": [
    "You can change lists using slices. "
   ]
  },
  {
   "cell_type": "code",
   "execution_count": 163,
   "metadata": {},
   "outputs": [
    {
     "name": "stdout",
     "output_type": "stream",
     "text": [
      "[24, 25, 27, 29, 64, 77, 44, 32]\n"
     ]
    }
   ],
   "source": [
    "ages[0:0] = [24]\n",
    "ages[4:5] = [64]\n",
    "print(ages)"
   ]
  },
  {
   "cell_type": "code",
   "execution_count": 166,
   "metadata": {},
   "outputs": [
    {
     "name": "stdout",
     "output_type": "stream",
     "text": [
      "[30, 31, 31]\n"
     ]
    }
   ],
   "source": [
    "days_in_summer = days_in_month[5:8]\n",
    "print(days_in_summer)"
   ]
  },
  {
   "cell_type": "code",
   "execution_count": 168,
   "metadata": {},
   "outputs": [
    {
     "name": "stdout",
     "output_type": "stream",
     "text": [
      "[31, 30, 31]\n",
      "[31, 29, 31]\n"
     ]
    }
   ],
   "source": [
    "# Let's find the days in Fall and days in  Winter using a slice for each\n",
    "days_in_fall = days_in_month[-3:] # starts three indexes from the end and goes through the end\n",
    "days_in_winter = days_in_month[:3] # starts at index 0 and stops at index 3\n",
    "print(days_in_fall)\n",
    "print(days_in_winter)"
   ]
  },
  {
   "cell_type": "code",
   "execution_count": 171,
   "metadata": {},
   "outputs": [
    {
     "name": "stdout",
     "output_type": "stream",
     "text": [
      "[31, 29, 31, 31, 30, 31]\n",
      "Full year: [31, 29, 31, 30, 31, 30, 31, 31, 30, 31, 30, 31]\n",
      "Just Winter and Fall: [31, 29, 31, 31, 30, 31]\n"
     ]
    }
   ],
   "source": [
    "# Two ways to get a list with the days of Winter and Fall but not Spring and Summer\n",
    "\n",
    "# Option 1\n",
    "winter_and_fall_1 = days_in_winter + days_in_fall\n",
    "print(winter_and_fall_1)\n",
    "\n",
    "# Option 2\n",
    "winter_and_fall_2 = days_in_month[:]\n",
    "print(f'Full year: {winter_and_fall_2}')\n",
    "winter_and_fall_2[3:9] = [] # erases the info at indexes 3 through 8 by setting it to an empty list\n",
    "print(f'Just Winter and Fall: {winter_and_fall_2}')"
   ]
  },
  {
   "cell_type": "markdown",
   "metadata": {},
   "source": [
    "##### Strings are also like lists\n",
    "\n",
    "They can be sliced up like a list. They cannot be added to or deleted from though."
   ]
  },
  {
   "cell_type": "code",
   "execution_count": 176,
   "metadata": {},
   "outputs": [
    {
     "name": "stdout",
     "output_type": "stream",
     "text": [
      "filbert \n",
      "is\n",
      "doggie\n"
     ]
    }
   ],
   "source": [
    "example = 'filbert is a cool doggie'\n",
    "print(example[:8])\n",
    "print(example[8:10])\n",
    "print(example[-6:])"
   ]
  },
  {
   "cell_type": "markdown",
   "metadata": {},
   "source": [
    "##### Lists with Lists\n",
    "\n",
    "Lists can be made of lists, and lists of lists, and so on, and so on, and so on...\n",
    "\n",
    "To access a list within a list, use `[][]`."
   ]
  },
  {
   "cell_type": "code",
   "execution_count": 178,
   "metadata": {},
   "outputs": [
    {
     "name": "stdout",
     "output_type": "stream",
     "text": [
      "[1, 2, 3]\n",
      "6\n"
     ]
    }
   ],
   "source": [
    "list_of_lists = [[1, 2, 3], [4, 5, 6], [7, 8, 9]]\n",
    "print(list_of_lists[0])\n",
    "print(list_of_lists[1][2])"
   ]
  },
  {
   "cell_type": "markdown",
   "metadata": {},
   "source": [
    "Lists of lists can be handy for making things like grids—chess boards, etc."
   ]
  },
  {
   "cell_type": "code",
   "execution_count": 179,
   "metadata": {},
   "outputs": [],
   "source": [
    "board = [['r', 'n', 'b', 'q', 'k', 'b', 'n', 'r'],\n",
    "         ['p', 'p', 'p', 'p', 'p', 'p', 'p', 'p'],\n",
    "         ['.', '.', '.', '.', '.', '.', '.', '.'],\n",
    "         ['.', '.', '.', '.', '.', '.', '.', '.'],\n",
    "         ['.', '.', '.', '.', '.', '.', '.', '.'],\n",
    "         ['.', '.', '.', '.', '.', '.', '.', '.'],\n",
    "         ['P', 'P', 'P', 'P', 'P', 'P', 'P', 'P'],\n",
    "         ['R', 'N', 'B', 'Q', 'K', 'B', 'N', 'R']]"
   ]
  },
  {
   "cell_type": "markdown",
   "metadata": {},
   "source": [
    "##### Lists can have different item types\n",
    "\n",
    "Lists can have ints, floats, strings, etc. The better way to do mixed types is to make an Object"
   ]
  },
  {
   "cell_type": "markdown",
   "metadata": {},
   "source": [
    "#### Tuples\n",
    "\n",
    "A list of items, but the list is immutable and cannot be changed. You cannot modify by adding or deleting, or changing the values therein. You can access parts of a tuple using slices.\n",
    "\n",
    "Tuples are like lists, but use parentheses instead of square brackets.\n",
    "\n",
    "`tuple1 = ('a', 'b', 'c')`"
   ]
  },
  {
   "cell_type": "code",
   "execution_count": 184,
   "metadata": {},
   "outputs": [
    {
     "name": "stdout",
     "output_type": "stream",
     "text": [
      "Enter a person's name, or 'stop' to quit: Que\n",
      "Enter Que's age: 64\n",
      "Enter a person's name, or 'stop' to quit: Alzada\n",
      "Enter Alzada's age: 88\n",
      "Enter a person's name, or 'stop' to quit: Fran\n",
      "Enter Fran's age: 3\n",
      "Enter a person's name, or 'stop' to quit: Fran 2\n",
      "Enter Fran 2's age: 64\n",
      "Enter a person's name, or 'stop' to quit: Art-ur\n",
      "Enter Art-ur's age: 535\n",
      "Enter a person's name, or 'stop' to quit: Nero\n",
      "Enter Nero's age: 4\n",
      "Enter a person's name, or 'stop' to quit: stop\n",
      "The oldest person in your list is Art-ur at 535 years old.\n",
      "[64, 88, 3, 64, 535, 4]\n"
     ]
    }
   ],
   "source": [
    "# Parallel lists exercise: have a user enter a person's name and their age. Then output the oldest person\n",
    "\n",
    "# generate a list of names and a list of ages that will append until a user types 'stop'\n",
    "names = []\n",
    "ages = []\n",
    "name = input('Enter a person\\'s name, or \\'stop\\' to quit: ')\n",
    "while name != 'stop':\n",
    "    age = int(input(f'Enter {name}\\'s age: '))\n",
    "    names.append(name)\n",
    "    ages.append(age)\n",
    "    name = input('Enter a person\\'s name, or \\'stop\\' to quit: ')\n",
    "    \n",
    "# Find the largest number in the age list\n",
    "# Starting assumption is that the maximum age is at 0...the first person entered is the oldest\n",
    "maxindex = 0\n",
    "for i in range(1, len(ages)):\n",
    "    if ages[i] > ages[maxindex]:\n",
    "        maxindex = i\n",
    "        \n",
    "print(f'The oldest person in your list is {names[maxindex]} at {ages[maxindex]} years old.')\n",
    "print(ages)"
   ]
  },
  {
   "cell_type": "markdown",
   "metadata": {},
   "source": [
    "---\n",
    "## [Episode 8: Top-Down Design of a Data Analysis Program](https://epl.kanopy.com/video/top-down-design-data-analysis-program)\n",
    "\n",
    "This is a less in thinking ahead of time before you start writing code. For simple cases, yes, this can work. But for more complicated problems, we want to view the problem from the top and break down solving problems to more manageable chunks. This is called **top-down design**—a development paradigm.\n",
    "\n",
    "This lesson will build a weather app using top-down design."
   ]
  },
  {
   "cell_type": "markdown",
   "metadata": {},
   "source": [
    "### Broadest Level\n",
    "\n",
    "What happens in this app?\n",
    "1. Read in Data\n",
    "2. Analyze Data\n",
    "3. Present Results\n",
    "\n",
    "These top-level items should be put in as comments. Next flesh out what happes within each section and make them comments. Going one level down:\n",
    "\n",
    "1. Read in Data\n",
    "  1. Open file\n",
    "    1. Get file name from user\n",
    "    2. Give open command\n",
    "  2. Read lines from file\n",
    "    1. Loop over all lines\n",
    "      1. Read line as a string\n",
    "      2. Get data from string\n",
    "        1. Split string on commas\n",
    "        2. Store each part in variable of right type\n",
    "      3. Store data in list\n",
    "  3. Close file\n",
    "2. Analyze Data\n",
    "  1. Get date from user\n",
    "    1. Ask user for month\n",
    "    2. Ask user for day\n",
    "  2. Find historical data for date\n",
    "    1. Loop through all historical data\n",
    "      1. Compare day and month to user's input\n",
    "      2. "
   ]
  },
  {
   "cell_type": "code",
   "execution_count": 194,
   "metadata": {},
   "outputs": [
    {
     "name": "stdout",
     "output_type": "stream",
     "text": [
      "What is the name of the file you want to use: 2005-2020_weather_data_60202.csv\n",
      "[17, 3, 2008, 0.0, 0.0]\n",
      "[18, 3, 2008, 0.09, 0.0]\n",
      "[19, 3, 2008, 0.04, 0.0]\n",
      "[20, 3, 2008, 0.0, 0.0]\n",
      "[21, 3, 2008, 0.0, 0.0]\n",
      "[22, 3, 2008, 0.35, 5.5]\n",
      "[23, 3, 2008, 0.0, 0.0]\n",
      "[24, 3, 2008, 0.0, 0.0]\n",
      "[25, 3, 2008, 0.0, 0.0]\n",
      "[26, 3, 2008, 0.0, 0.0]\n",
      "[27, 3, 2008, 0.05, 0.0]\n",
      "[29, 3, 2008, 0.47, 0.0]\n",
      "[30, 3, 2008, 0.0, 0.0]\n",
      "[31, 3, 2008, 0.18, 0.0]\n",
      "[1, 4, 2008, 0.46, 0.0]\n",
      "[2, 4, 2008, 0.0, 0.0]\n",
      "[8, 4, 2008, 0.21, 0.0]\n",
      "[9, 4, 2008, 0.68, 0.0]\n",
      "[10, 4, 2008, 0.03, 0.0]\n",
      "[11, 4, 2008, 0.95, 0.0]\n",
      "[12, 4, 2008, 0.08, 0.0]\n",
      "[13, 4, 2008, 0.27, 0.0]\n",
      "[14, 4, 2008, 0.02, 0.0]\n",
      "[15, 4, 2008, 0.0, 0.0]\n",
      "[17, 4, 2008, 0.0, 0.0]\n",
      "[19, 4, 2008, 0.04, 0.0]\n",
      "[22, 4, 2008, 0.0, 0.0]\n",
      "[23, 4, 2008, 0.01, 0.0]\n",
      "[25, 4, 2008, 0.26, 0.0]\n",
      "[26, 4, 2008, 0.37, 0.0]\n",
      "[27, 4, 2008, 0.0, 0.0]\n",
      "[28, 4, 2008, 0.0, 0.0]\n",
      "[29, 4, 2008, 0.56, 0.0]\n",
      "[30, 4, 2008, 0.0, 0.0]\n",
      "[1, 5, 2008, 0.0, 0.0]\n",
      "[2, 5, 2008, 0.0, 0.0]\n",
      "[3, 5, 2008, 0.4, 0.0]\n",
      "[4, 5, 2008, 0.02, 0.0]\n",
      "[6, 5, 2008, 0.0, 0.0]\n",
      "[7, 5, 2008, 0.0, 0.0]\n",
      "[8, 5, 2008, 1.06, 0.0]\n",
      "[9, 5, 2008, 0.0, 0.0]\n",
      "[10, 5, 2008, 0.0, 0.0]\n",
      "[11, 5, 2008, 0.03, 0.0]\n",
      "[12, 5, 2008, 0.71, 0.0]\n",
      "[13, 5, 2008, 0.0, 0.0]\n",
      "[14, 5, 2008, 0.12, 0.0]\n",
      "[15, 5, 2008, 0.0, 0.0]\n",
      "[16, 5, 2008, 0.0, 0.0]\n",
      "[17, 5, 2008, 0.02, 0.0]\n",
      "[18, 5, 2008, 0.13, 0.0]\n",
      "[19, 5, 2008, 0.0, 0.0]\n",
      "[20, 5, 2008, 0.01, 0.0]\n",
      "[21, 5, 2008, 0.0, 0.0]\n",
      "[22, 5, 2008, 0.0, 0.0]\n",
      "[23, 5, 2008, 0.0, 0.0]\n",
      "[26, 5, 2008, 0.68, 0.0]\n",
      "[27, 5, 2008, 0.0, 0.0]\n",
      "[28, 5, 2008, 0.0, 0.0]\n",
      "[29, 5, 2008, 0.0, 0.0]\n",
      "[30, 5, 2008, 0.03, 0.0]\n",
      "[31, 5, 2008, 0.47, 0.0]\n",
      "[2, 6, 2008, 0.0, 0.0]\n",
      "[3, 6, 2008, 0.01, 0.0]\n",
      "[4, 6, 2008, 0.25, 0.0]\n",
      "[5, 6, 2008, 1.04, 0.0]\n",
      "[6, 6, 2008, 0.0, 0.0]\n",
      "[7, 6, 2008, 0.02, 0.0]\n",
      "[8, 6, 2008, 0.95, 0.0]\n",
      "[9, 6, 2008, 1.27, 0.0]\n",
      "[10, 6, 2008, 0.08, 0.0]\n",
      "[12, 6, 2008, 0.0, 0.0]\n",
      "[13, 6, 2008, 0.55, 0.0]\n",
      "[16, 6, 2008, 0.2, 0.0]\n",
      "[17, 6, 2008, 0.0, 0.0]\n",
      "[18, 6, 2008, 0.0, 0.0]\n",
      "[19, 6, 2008, 0.0, 0.0]\n",
      "[20, 6, 2008, 0.0, 0.0]\n",
      "[21, 6, 2008, 0.06, 0.0]\n",
      "[22, 6, 2008, 0.04, 0.0]\n",
      "[23, 6, 2008, 0.39, 0.0]\n",
      "[24, 6, 2008, 0.0, 0.0]\n",
      "[25, 6, 2008, 0.02, 0.0]\n",
      "[27, 6, 2008, 0.02, 0.0]\n",
      "[28, 6, 2008, 0.0, 0.0]\n",
      "[29, 6, 2008, 0.85, 0.0]\n",
      "[30, 6, 2008, 0.17, 0.0]\n",
      "[2, 7, 2008, 0.0, 0.0]\n",
      "[3, 7, 2008, 0.42, 0.0]\n",
      "[4, 7, 2008, 0.0, 0.0]\n",
      "[6, 7, 2008, 0.0, 0.0]\n",
      "[8, 7, 2008, 0.32, 0.0]\n",
      "[10, 7, 2008, 0.3, 0.0]\n",
      "[11, 7, 2008, 0.65, 0.0]\n",
      "[12, 7, 2008, 0.77, 0.0]\n",
      "[14, 7, 2008, 0.0, 0.0]\n",
      "[15, 7, 2008, 0.0, 0.0]\n",
      "[16, 7, 2008, 0.0, 0.0]\n",
      "[17, 7, 2008, 0.0, 0.0]\n",
      "[18, 7, 2008, 0.0, 0.0]\n",
      "[19, 7, 2008, 0.47, 0.0]\n",
      "[20, 7, 2008, 1.16, 0.0]\n",
      "[21, 7, 2008, 0.0, 0.0]\n",
      "[22, 7, 2008, 0.15, 0.0]\n",
      "[24, 7, 2008, 0.0, 0.0]\n",
      "[25, 7, 2008, 0.0, 0.0]\n",
      "[26, 7, 2008, 0.0, 0.0]\n",
      "[28, 7, 2008, 0.0, 0.0]\n",
      "[29, 7, 2008, 0.0, 0.0]\n",
      "[30, 7, 2008, 0.01, 0.0]\n",
      "[31, 7, 2008, 0.0, 0.0]\n",
      "[1, 8, 2008, 0.25, 0.0]\n",
      "[2, 8, 2008, 0.0, 0.0]\n",
      "[3, 8, 2008, 0.0, 0.0]\n",
      "[4, 8, 2008, 0.0, 0.0]\n",
      "[5, 8, 2008, 1.75, 0.0]\n",
      "[6, 8, 2008, 0.0, 0.0]\n",
      "[7, 8, 2008, 0.0, 0.0]\n",
      "[8, 8, 2008, 0.0, 0.0]\n",
      "[9, 8, 2008, 0.0, 0.0]\n",
      "[11, 8, 2008, 0.0, 0.0]\n",
      "[12, 8, 2008, 0.0, 0.0]\n",
      "[13, 8, 2008, 0.0, 0.0]\n",
      "[14, 8, 2008, 0.08, 0.0]\n",
      "[15, 8, 2008, 0.0, 0.0]\n",
      "[16, 8, 2008, 0.0, 0.0]\n",
      "[17, 8, 2008, 0.0, 0.0]\n",
      "[19, 8, 2008, 0.0, 0.0]\n",
      "[20, 8, 2008, 0.0, 0.0]\n",
      "[21, 8, 2008, 0.0, 0.0]\n",
      "[22, 8, 2008, 0.0, 0.0]\n",
      "[23, 8, 2008, 0.07, 0.0]\n",
      "[24, 8, 2008, 0.0, 0.0]\n",
      "[25, 8, 2008, 0.0, 0.0]\n",
      "[26, 8, 2008, 0.0, 0.0]\n",
      "[27, 8, 2008, 0.0, 0.0]\n",
      "[28, 8, 2008, 0.0, 0.0]\n",
      "[29, 8, 2008, 0.03, 0.0]\n",
      "[30, 8, 2008, 0.0, 0.0]\n",
      "[31, 8, 2008, 0.0, 0.0]\n",
      "[1, 9, 2008, 0.0, 0.0]\n",
      "[3, 9, 2008, 0.0, 0.0]\n",
      "[4, 9, 2008, 0.32, 0.0]\n",
      "[5, 9, 2008, 2.9, 0.0]\n",
      "[7, 9, 2008, 0.0, 0.0]\n",
      "[8, 9, 2008, 0.0, 0.0]\n",
      "[9, 9, 2008, 1.19, 0.0]\n",
      "[10, 9, 2008, 0.0, 0.0]\n",
      "[11, 9, 2008, 0.0, 0.0]\n",
      "[12, 9, 2008, 0.0, 0.0]\n",
      "[13, 9, 2008, 2.8, 0.0]\n",
      "[14, 9, 2008, 4.08, 0.0]\n",
      "[15, 9, 2008, 1.47, 0.0]\n",
      "[17, 9, 2008, 0.0, 0.0]\n",
      "[22, 9, 2008, 0.0, 0.0]\n",
      "[24, 9, 2008, 0.0, 0.0]\n",
      "[25, 9, 2008, 0.0, 0.0]\n",
      "[26, 9, 2008, 0.0, 0.0]\n",
      "[27, 9, 2008, 0.0, 0.0]\n",
      "[29, 9, 2008, 0.0, 0.0]\n",
      "[30, 9, 2008, 0.78, 0.0]\n",
      "[1, 10, 2008, 0.0, 0.0]\n",
      "[6, 10, 2008, 0.14, 0.0]\n",
      "[7, 10, 2008, 0.0, 0.0]\n",
      "[8, 10, 2008, 1.31, 0.0]\n",
      "[9, 10, 2008, 0.0, 0.0]\n",
      "[11, 10, 2008, 0.0, 0.0]\n",
      "[12, 10, 2008, 0.0, 0.0]\n",
      "[13, 10, 2008, 0.0, 0.0]\n",
      "[15, 10, 2008, 0.0, 0.0]\n",
      "[16, 10, 2008, 0.41, 0.0]\n",
      "[17, 10, 2008, 0.0, 0.0]\n",
      "[18, 10, 2008, 0.34, 0.0]\n",
      "[19, 10, 2008, 0.0, 0.0]\n",
      "[20, 10, 2008, 0.0, 0.0]\n",
      "[21, 10, 2008, 0.29, 0.0]\n",
      "[22, 10, 2008, 0.0, 0.0]\n",
      "[23, 10, 2008, 0.0, 0.0]\n",
      "[24, 10, 2008, 0.26, 0.0]\n",
      "[25, 10, 2008, 0.52, 0.0]\n",
      "[28, 10, 2008, 0.0, 0.0]\n",
      "[29, 10, 2008, 0.0, 0.0]\n",
      "[1, 11, 2008, 0.0, 0.0]\n",
      "[2, 11, 2008, 0.0, 0.0]\n",
      "[3, 11, 2008, 0.0, 0.0]\n",
      "[4, 11, 2008, 0.0, 0.0]\n",
      "[5, 11, 2008, 0.0, 0.0]\n",
      "[7, 11, 2008, 0.22, 0.0]\n",
      "[8, 11, 2008, 0.0, 0.0]\n",
      "[9, 11, 2008, 0.0, 0.0]\n",
      "[10, 11, 2008, 0.0, 0.0]\n",
      "[11, 11, 2008, 0.0, 0.0]\n",
      "[12, 11, 2008, 0.15, 0.0]\n",
      "[13, 11, 2008, 0.0, 0.0]\n",
      "[14, 11, 2008, 0.07, 0.0]\n",
      "[15, 11, 2008, 0.0, 0.0]\n",
      "[16, 11, 2008, 0.0, 0.0]\n"
     ]
    },
    {
     "ename": "ValueError",
     "evalue": "could not convert string to float: ",
     "output_type": "error",
     "traceback": [
      "\u001b[1;31m---------------------------------------------------------------------------\u001b[0m",
      "\u001b[1;31mValueError\u001b[0m                                Traceback (most recent call last)",
      "\u001b[1;32m<ipython-input-194-9c1cd5f64171>\u001b[0m in \u001b[0;36m<module>\u001b[1;34m\u001b[0m\n\u001b[0;32m     15\u001b[0m     \u001b[0mdate\u001b[0m\u001b[1;33m,\u001b[0m \u001b[0mr\u001b[0m\u001b[1;33m,\u001b[0m \u001b[0ms\u001b[0m \u001b[1;33m=\u001b[0m \u001b[0mline\u001b[0m\u001b[1;33m.\u001b[0m\u001b[0msplit\u001b[0m\u001b[1;33m(\u001b[0m\u001b[1;34m','\u001b[0m\u001b[1;33m)\u001b[0m\u001b[1;33m\u001b[0m\u001b[1;33m\u001b[0m\u001b[0m\n\u001b[0;32m     16\u001b[0m     \u001b[0mrainfall\u001b[0m \u001b[1;33m=\u001b[0m \u001b[0mfloat\u001b[0m\u001b[1;33m(\u001b[0m\u001b[0mr\u001b[0m\u001b[1;33m)\u001b[0m\u001b[1;33m\u001b[0m\u001b[1;33m\u001b[0m\u001b[0m\n\u001b[1;32m---> 17\u001b[1;33m     \u001b[0msnowfall\u001b[0m \u001b[1;33m=\u001b[0m \u001b[0mfloat\u001b[0m\u001b[1;33m(\u001b[0m\u001b[0ms\u001b[0m\u001b[1;33m)\u001b[0m\u001b[1;33m\u001b[0m\u001b[1;33m\u001b[0m\u001b[0m\n\u001b[0m\u001b[0;32m     18\u001b[0m     \u001b[0mm\u001b[0m\u001b[1;33m,\u001b[0m \u001b[0md\u001b[0m\u001b[1;33m,\u001b[0m \u001b[0my\u001b[0m \u001b[1;33m=\u001b[0m \u001b[0mdate\u001b[0m\u001b[1;33m.\u001b[0m\u001b[0msplit\u001b[0m\u001b[1;33m(\u001b[0m\u001b[1;34m'/'\u001b[0m\u001b[1;33m)\u001b[0m\u001b[1;33m\u001b[0m\u001b[1;33m\u001b[0m\u001b[0m\n\u001b[0;32m     19\u001b[0m     \u001b[0mmonth\u001b[0m \u001b[1;33m=\u001b[0m \u001b[0mint\u001b[0m\u001b[1;33m(\u001b[0m\u001b[0mm\u001b[0m\u001b[1;33m)\u001b[0m\u001b[1;33m\u001b[0m\u001b[1;33m\u001b[0m\u001b[0m\n",
      "\u001b[1;31mValueError\u001b[0m: could not convert string to float: "
     ]
    }
   ],
   "source": [
    "########## Read in Data ##########\n",
    "# Open File\n",
    "## Get file name from user\n",
    "filename = input('What is the name of the file you want to use: ')\n",
    "## Give open command\n",
    "infile = open(f'./test_texts/{filename}', 'r')\n",
    "next(infile) # skip past header line in csv; this is not in the lesson, but a result of seeing the error when a header could not convert to a float\n",
    "# print(infile.read())\n",
    "\n",
    "# Read lines from file\n",
    "datalist = [] \n",
    "## Loop over all lines\n",
    "for line in infile:\n",
    "    # get data from string\n",
    "    date, r, s = line.split(',')\n",
    "    rainfall = float(r)\n",
    "    snowfall = float(s)\n",
    "    m, d, y = date.split('/')\n",
    "    month = int(m)\n",
    "    day = int(d)\n",
    "    year = int(y)\n",
    "    # put data into list\n",
    "    datalist.append([day, month, year, rainfall, snowfall])\n",
    "# Close file\n",
    "infile.close()\n",
    "\n",
    "########## Analyze Data ##########\n",
    "# Get date from user\n",
    "## Ask user for month\n",
    "user_month = int(input('What month (use a number): '))\n",
    "## Ask user for day\n",
    "user_day = int(input('What date (use a number): '))\n",
    "\n",
    "# Find historical data for date\n",
    "gooddata = []\n",
    "\n",
    "for single_day in datalist:\n",
    "    if (single_day[0] == user_day) and (single_day[1] == user_month):\n",
    "        gooddata.append([single_day[2], single_day[3], single_day[4]])\n",
    "\n",
    "\n",
    "########## Present Results ##########"
   ]
  },
  {
   "cell_type": "code",
   "execution_count": null,
   "metadata": {},
   "outputs": [],
   "source": []
  }
 ],
 "metadata": {
  "kernelspec": {
   "display_name": "Python 3",
   "language": "python",
   "name": "python3"
  },
  "language_info": {
   "codemirror_mode": {
    "name": "ipython",
    "version": 3
   },
   "file_extension": ".py",
   "mimetype": "text/x-python",
   "name": "python",
   "nbconvert_exporter": "python",
   "pygments_lexer": "ipython3",
   "version": "3.7.1"
  }
 },
 "nbformat": 4,
 "nbformat_minor": 4
}
